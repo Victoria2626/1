{
  "cells": [
    {
      "cell_type": "markdown",
      "metadata": {
        "id": "B7TpktH--KyR"
      },
      "source": [
        "# Домашнее задание 6. Pandas"
      ]
    },
    {
      "cell_type": "markdown",
      "metadata": {
        "id": "aG3qP-8iogxq"
      },
      "source": [
        "**Примечание:**\n",
        "\n",
        "В заданиях вам даны подсказки по выполнению, a также вывод работы кода авторского решения - вы можете смотреть на этот вывод и понимать, в правильном ли направлении вы движетесь при выполнении задания."
      ]
    },
    {
      "cell_type": "markdown",
      "metadata": {
        "id": "PuY91PfpeBw3"
      },
      "source": [
        "Скачиваем данные:"
      ]
    },
    {
      "cell_type": "code",
      "execution_count": null,
      "metadata": {
        "colab": {
          "base_uri": "https://localhost:8080/"
        },
        "id": "iZWah5Etd_pT",
        "outputId": "0d231797-96e8-4447-d4c0-1e3d108d0622"
      },
      "outputs": [
        {
          "output_type": "stream",
          "name": "stdout",
          "text": [
            "  % Total    % Received % Xferd  Average Speed   Time    Time     Time  Current\n",
            "                                 Dload  Upload   Total   Spent    Left  Speed\n",
            "  0     0    0     0    0     0      0      0 --:--:-- --:--:-- --:--:--     0\n",
            "100  2424  100  2424    0     0   3485      0 --:--:-- --:--:-- --:--:-- 15843\n"
          ]
        }
      ],
      "source": [
        "!curl -L -o 'articles.csv' 'https://drive.google.com/uc?id=1nht5Pd7kuqJSCz7B9jwU4qScnCO1ZPop&export=download&confirm=t'"
      ]
    },
    {
      "cell_type": "code",
      "execution_count": null,
      "metadata": {
        "id": "BLeiyeHqkqJO"
      },
      "outputs": [],
      "source": [
        "import pandas as pd"
      ]
    },
    {
      "cell_type": "markdown",
      "metadata": {
        "id": "HM_Y_nCYkrTy"
      },
      "source": [
        "# Задача 0"
      ]
    },
    {
      "cell_type": "markdown",
      "metadata": {
        "id": "q6_oalbnogxr"
      },
      "source": [
        "Загрузите таблицу с данными из `articles.csv`:\n"
      ]
    },
    {
      "cell_type": "code",
      "execution_count": null,
      "metadata": {
        "id": "OGGXSChjogxr"
      },
      "outputs": [],
      "source": [
        "articles = pd.read_csv('articles.csv')"
      ]
    },
    {
      "cell_type": "markdown",
      "metadata": {
        "id": "nlzguGOQogxs"
      },
      "source": [
        "Посмотрите на первые 5 строк датафрейма (метод `head`):"
      ]
    },
    {
      "cell_type": "code",
      "execution_count": null,
      "metadata": {
        "id": "bcsGuyObogxt"
      },
      "outputs": [],
      "source": [
        "articles.head(5)"
      ]
    },
    {
      "cell_type": "markdown",
      "metadata": {
        "id": "OQ4Ecb25kyIY"
      },
      "source": [
        "```\n",
        "\tid\ttitle\tpublication\tauthor\tdate\tyear\tmonth\tcontent\n",
        "0\t17283\tHouse Republicans Fret About Winning Their Hea...\tNew York Times\tCarl Hulse\t2016-12-31\t2016\t12\tWASHINGTON — Congressional Republicans have...\n",
        "1\t17284\tRift Between Officers and Residents as Killing...\tNew York Times\tBenjamin Mueller and Al Baker\t2017-06-19\t2017\t6\tAfter the bullet shells get counted, the blood...\n",
        "2\t17285\tTyrus Wong, ‘Bambi’ Artist Thwarted by Racial ...\tNew York Times\tMargalit Fox\t2017-01-06\t2017\t1\tWhen Walt Disney’s “Bambi” opened in 1942, cri...\n",
        "3\t17286\tAmong Deaths in 2016, a Heavy Toll in Pop Musi...\tNew York Times\tWilliam McDonald\t2017-04-10\t2017\t4\tDeath may be the great equalizer, but it isn’t...\n",
        "4\t17287\tKim Jong-un Says North Korea Is Preparing to T...\tNew York Times\tChoe Sang-Hun\t2017-01-02\t2017\t1\tSEOUL, South Korea — North Korea’s leader, ...\n",
        "```"
      ]
    },
    {
      "cell_type": "markdown",
      "metadata": {
        "id": "XwCF4v0Yogxu"
      },
      "source": [
        "Определите количество строк и столбцов в датафрейме (атрибут `shape`)"
      ]
    },
    {
      "cell_type": "code",
      "execution_count": null,
      "metadata": {
        "id": "moLW_YZ_ogxv"
      },
      "outputs": [],
      "source": [
        "articles.shape"
      ]
    },
    {
      "cell_type": "markdown",
      "metadata": {
        "id": "BndudeyMlAbh"
      },
      "source": [
        "`(50000, 8)`"
      ]
    },
    {
      "cell_type": "markdown",
      "metadata": {
        "id": "ceevlcngogxw"
      },
      "source": [
        "Посмотрите, в каких столбцах есть пропуски (используйте методы ```isnull``` и ```sum```)"
      ]
    },
    {
      "cell_type": "code",
      "execution_count": null,
      "metadata": {
        "id": "63-WI3iFogxw"
      },
      "outputs": [],
      "source": [
        "articles.isnull().sum()"
      ]
    },
    {
      "cell_type": "markdown",
      "metadata": {
        "id": "5D27ke8RlHTp"
      },
      "source": [
        "```\n",
        "id                0\n",
        "title             0\n",
        "publication       0\n",
        "author         6306\n",
        "date              0\n",
        "year              0\n",
        "month             0\n",
        "content           0\n",
        "dtype: int64\n",
        "```"
      ]
    },
    {
      "cell_type": "markdown",
      "metadata": {
        "id": "C_aRGGRLogxw"
      },
      "source": [
        "Видим, что в колонке ```author``` есть пропуски.\n",
        "\n",
        "Посчитайте, какая доля пропусков содержится в этой колонке (используйте методы ```isnull``` и ```mean```)"
      ]
    },
    {
      "cell_type": "code",
      "execution_count": null,
      "metadata": {
        "id": "-Bzxinehogxx"
      },
      "outputs": [],
      "source": [
        "articles['author'].isnull().mean()"
      ]
    },
    {
      "cell_type": "markdown",
      "metadata": {
        "id": "p2H-1Qu-lKwK"
      },
      "source": [
        "`0.12612`"
      ]
    },
    {
      "cell_type": "markdown",
      "metadata": {
        "id": "XvR8PawNogxx"
      },
      "source": [
        "Видим, что в колонке ```author``` 12% пропусков. Давайте удалим те строки, в которых пропущено значение в колонке ```author```"
      ]
    },
    {
      "cell_type": "markdown",
      "metadata": {
        "id": "UX8tzA7nogxy"
      },
      "source": [
        "Для этого используйте функцию ```dropna```, которой в качестве аргумента можно передать параметр ```axis```, чтобы удалить строки или столбцы с пропусками.\n",
        "\n",
        "Не забудьте, что чтобы сохранить результат удаления строк, нужно либо перезаписать датафрейм (```df = df.same_method()```), либо выставить в методе ```dropna``` параметр ```inplace=True```, который говорит о том, что операция будет производиться с самим датафреймом, а не с его копией\n"
      ]
    },
    {
      "cell_type": "code",
      "execution_count": null,
      "metadata": {
        "id": "6Hj17DlSD57w",
        "outputId": "7b5ddbfc-0ac3-42bf-8489-1d9ffa88751d"
      },
      "outputs": [
        {
          "ename": "ValueError",
          "evalue": "The truth value of a DataFrame is ambiguous. Use a.empty, a.bool(), a.item(), a.any() or a.all().",
          "output_type": "error",
          "traceback": [
            "\u001b[1;31m---------------------------------------------------------------------------\u001b[0m",
            "\u001b[1;31mValueError\u001b[0m                                Traceback (most recent call last)",
            "Cell \u001b[1;32mIn[26], line 1\u001b[0m\n\u001b[1;32m----> 1\u001b[0m get_ipython()\u001b[38;5;241m.\u001b[39mrun_line_magic(\u001b[38;5;124m'\u001b[39m\u001b[38;5;124mpinfo\u001b[39m\u001b[38;5;124m'\u001b[39m, \u001b[38;5;124m'\u001b[39m\u001b[38;5;124marticles.dropna\u001b[39m\u001b[38;5;124m'\u001b[39m)\n",
            "File \u001b[1;32m~\\anaconda3\\Lib\\site-packages\\IPython\\core\\interactiveshell.py:2414\u001b[0m, in \u001b[0;36mInteractiveShell.run_line_magic\u001b[1;34m(self, magic_name, line, _stack_depth)\u001b[0m\n\u001b[0;32m   2412\u001b[0m     kwargs[\u001b[38;5;124m'\u001b[39m\u001b[38;5;124mlocal_ns\u001b[39m\u001b[38;5;124m'\u001b[39m] \u001b[38;5;241m=\u001b[39m \u001b[38;5;28mself\u001b[39m\u001b[38;5;241m.\u001b[39mget_local_scope(stack_depth)\n\u001b[0;32m   2413\u001b[0m \u001b[38;5;28;01mwith\u001b[39;00m \u001b[38;5;28mself\u001b[39m\u001b[38;5;241m.\u001b[39mbuiltin_trap:\n\u001b[1;32m-> 2414\u001b[0m     result \u001b[38;5;241m=\u001b[39m fn(\u001b[38;5;241m*\u001b[39margs, \u001b[38;5;241m*\u001b[39m\u001b[38;5;241m*\u001b[39mkwargs)\n\u001b[0;32m   2416\u001b[0m \u001b[38;5;66;03m# The code below prevents the output from being displayed\u001b[39;00m\n\u001b[0;32m   2417\u001b[0m \u001b[38;5;66;03m# when using magics with decodator @output_can_be_silenced\u001b[39;00m\n\u001b[0;32m   2418\u001b[0m \u001b[38;5;66;03m# when the last Python token in the expression is a ';'.\u001b[39;00m\n\u001b[0;32m   2419\u001b[0m \u001b[38;5;28;01mif\u001b[39;00m \u001b[38;5;28mgetattr\u001b[39m(fn, magic\u001b[38;5;241m.\u001b[39mMAGIC_OUTPUT_CAN_BE_SILENCED, \u001b[38;5;28;01mFalse\u001b[39;00m):\n",
            "File \u001b[1;32m~\\anaconda3\\Lib\\site-packages\\IPython\\core\\magics\\namespace.py:58\u001b[0m, in \u001b[0;36mNamespaceMagics.pinfo\u001b[1;34m(self, parameter_s, namespaces)\u001b[0m\n\u001b[0;32m     56\u001b[0m     \u001b[38;5;28mself\u001b[39m\u001b[38;5;241m.\u001b[39mpsearch(oname)\n\u001b[0;32m     57\u001b[0m \u001b[38;5;28;01melse\u001b[39;00m:\n\u001b[1;32m---> 58\u001b[0m     \u001b[38;5;28mself\u001b[39m\u001b[38;5;241m.\u001b[39mshell\u001b[38;5;241m.\u001b[39m_inspect(\u001b[38;5;124m'\u001b[39m\u001b[38;5;124mpinfo\u001b[39m\u001b[38;5;124m'\u001b[39m, oname, detail_level\u001b[38;5;241m=\u001b[39mdetail_level,\n\u001b[0;32m     59\u001b[0m                         namespaces\u001b[38;5;241m=\u001b[39mnamespaces)\n",
            "File \u001b[1;32m~\\anaconda3\\Lib\\site-packages\\IPython\\core\\interactiveshell.py:1795\u001b[0m, in \u001b[0;36mInteractiveShell._inspect\u001b[1;34m(self, meth, oname, namespaces, **kw)\u001b[0m\n\u001b[0;32m   1793\u001b[0m     pmethod(info\u001b[38;5;241m.\u001b[39mobj, oname, formatter)\n\u001b[0;32m   1794\u001b[0m \u001b[38;5;28;01melif\u001b[39;00m meth \u001b[38;5;241m==\u001b[39m \u001b[38;5;124m'\u001b[39m\u001b[38;5;124mpinfo\u001b[39m\u001b[38;5;124m'\u001b[39m:\n\u001b[1;32m-> 1795\u001b[0m     pmethod(\n\u001b[0;32m   1796\u001b[0m         info\u001b[38;5;241m.\u001b[39mobj,\n\u001b[0;32m   1797\u001b[0m         oname,\n\u001b[0;32m   1798\u001b[0m         formatter,\n\u001b[0;32m   1799\u001b[0m         info,\n\u001b[0;32m   1800\u001b[0m         enable_html_pager\u001b[38;5;241m=\u001b[39m\u001b[38;5;28mself\u001b[39m\u001b[38;5;241m.\u001b[39menable_html_pager,\n\u001b[0;32m   1801\u001b[0m         \u001b[38;5;241m*\u001b[39m\u001b[38;5;241m*\u001b[39mkw,\n\u001b[0;32m   1802\u001b[0m     )\n\u001b[0;32m   1803\u001b[0m \u001b[38;5;28;01melse\u001b[39;00m:\n\u001b[0;32m   1804\u001b[0m     pmethod(info\u001b[38;5;241m.\u001b[39mobj, oname)\n",
            "File \u001b[1;32m~\\anaconda3\\Lib\\site-packages\\IPython\\core\\oinspect.py:782\u001b[0m, in \u001b[0;36mInspector.pinfo\u001b[1;34m(self, obj, oname, formatter, info, detail_level, enable_html_pager, omit_sections)\u001b[0m\n\u001b[0;32m    758\u001b[0m \u001b[38;5;250m\u001b[39m\u001b[38;5;124;03m\"\"\"Show detailed information about an object.\u001b[39;00m\n\u001b[0;32m    759\u001b[0m \n\u001b[0;32m    760\u001b[0m \u001b[38;5;124;03mOptional arguments:\u001b[39;00m\n\u001b[1;32m   (...)\u001b[0m\n\u001b[0;32m    779\u001b[0m \u001b[38;5;124;03m- omit_sections: set of section keys and titles to omit\u001b[39;00m\n\u001b[0;32m    780\u001b[0m \u001b[38;5;124;03m\"\"\"\u001b[39;00m\n\u001b[0;32m    781\u001b[0m \u001b[38;5;28;01massert\u001b[39;00m info \u001b[38;5;129;01mis\u001b[39;00m \u001b[38;5;129;01mnot\u001b[39;00m \u001b[38;5;28;01mNone\u001b[39;00m\n\u001b[1;32m--> 782\u001b[0m info_b: Bundle \u001b[38;5;241m=\u001b[39m \u001b[38;5;28mself\u001b[39m\u001b[38;5;241m.\u001b[39m_get_info(\n\u001b[0;32m    783\u001b[0m     obj, oname, formatter, info, detail_level, omit_sections\u001b[38;5;241m=\u001b[39momit_sections\n\u001b[0;32m    784\u001b[0m )\n\u001b[0;32m    785\u001b[0m \u001b[38;5;28;01mif\u001b[39;00m \u001b[38;5;129;01mnot\u001b[39;00m enable_html_pager:\n\u001b[0;32m    786\u001b[0m     \u001b[38;5;28;01mdel\u001b[39;00m info_b[\u001b[38;5;124m\"\u001b[39m\u001b[38;5;124mtext/html\u001b[39m\u001b[38;5;124m\"\u001b[39m]\n",
            "File \u001b[1;32m~\\anaconda3\\Lib\\site-packages\\IPython\\core\\oinspect.py:738\u001b[0m, in \u001b[0;36mInspector._get_info\u001b[1;34m(self, obj, oname, formatter, info, detail_level, omit_sections)\u001b[0m\n\u001b[0;32m    712\u001b[0m \u001b[38;5;28;01mdef\u001b[39;00m \u001b[38;5;21m_get_info\u001b[39m(\n\u001b[0;32m    713\u001b[0m     \u001b[38;5;28mself\u001b[39m,\n\u001b[0;32m    714\u001b[0m     obj: Any,\n\u001b[1;32m   (...)\u001b[0m\n\u001b[0;32m    719\u001b[0m     omit_sections\u001b[38;5;241m=\u001b[39m(),\n\u001b[0;32m    720\u001b[0m ) \u001b[38;5;241m-\u001b[39m\u001b[38;5;241m>\u001b[39m Bundle:\n\u001b[0;32m    721\u001b[0m \u001b[38;5;250m    \u001b[39m\u001b[38;5;124;03m\"\"\"Retrieve an info dict and format it.\u001b[39;00m\n\u001b[0;32m    722\u001b[0m \n\u001b[0;32m    723\u001b[0m \u001b[38;5;124;03m    Parameters\u001b[39;00m\n\u001b[1;32m   (...)\u001b[0m\n\u001b[0;32m    735\u001b[0m \u001b[38;5;124;03m        Titles or keys to omit from output (can be set, tuple, etc., anything supporting `in`)\u001b[39;00m\n\u001b[0;32m    736\u001b[0m \u001b[38;5;124;03m    \"\"\"\u001b[39;00m\n\u001b[1;32m--> 738\u001b[0m     info_dict \u001b[38;5;241m=\u001b[39m \u001b[38;5;28mself\u001b[39m\u001b[38;5;241m.\u001b[39minfo(obj, oname\u001b[38;5;241m=\u001b[39moname, info\u001b[38;5;241m=\u001b[39minfo, detail_level\u001b[38;5;241m=\u001b[39mdetail_level)\n\u001b[0;32m    739\u001b[0m     bundle \u001b[38;5;241m=\u001b[39m \u001b[38;5;28mself\u001b[39m\u001b[38;5;241m.\u001b[39m_make_info_unformatted(\n\u001b[0;32m    740\u001b[0m         obj,\n\u001b[0;32m    741\u001b[0m         info_dict,\n\u001b[1;32m   (...)\u001b[0m\n\u001b[0;32m    744\u001b[0m         omit_sections\u001b[38;5;241m=\u001b[39momit_sections,\n\u001b[0;32m    745\u001b[0m     )\n\u001b[0;32m    746\u001b[0m     \u001b[38;5;28;01mreturn\u001b[39;00m \u001b[38;5;28mself\u001b[39m\u001b[38;5;241m.\u001b[39mformat_mime(bundle)\n",
            "File \u001b[1;32m~\\anaconda3\\Lib\\site-packages\\IPython\\core\\oinspect.py:838\u001b[0m, in \u001b[0;36mInspector.info\u001b[1;34m(self, obj, oname, info, detail_level)\u001b[0m\n\u001b[0;32m    836\u001b[0m parents_docs \u001b[38;5;241m=\u001b[39m \u001b[38;5;28;01mNone\u001b[39;00m\n\u001b[0;32m    837\u001b[0m prelude \u001b[38;5;241m=\u001b[39m \u001b[38;5;124m\"\u001b[39m\u001b[38;5;124m\"\u001b[39m\n\u001b[1;32m--> 838\u001b[0m \u001b[38;5;28;01mif\u001b[39;00m info \u001b[38;5;129;01mand\u001b[39;00m info\u001b[38;5;241m.\u001b[39mparent \u001b[38;5;129;01mand\u001b[39;00m \u001b[38;5;28mhasattr\u001b[39m(info\u001b[38;5;241m.\u001b[39mparent, HOOK_NAME):\n\u001b[0;32m    839\u001b[0m     parents_docs_dict \u001b[38;5;241m=\u001b[39m \u001b[38;5;28mgetattr\u001b[39m(info\u001b[38;5;241m.\u001b[39mparent, HOOK_NAME)\n\u001b[0;32m    840\u001b[0m     parents_docs \u001b[38;5;241m=\u001b[39m parents_docs_dict\u001b[38;5;241m.\u001b[39mget(att_name, \u001b[38;5;28;01mNone\u001b[39;00m)\n",
            "File \u001b[1;32m~\\anaconda3\\Lib\\site-packages\\pandas\\core\\generic.py:1527\u001b[0m, in \u001b[0;36mNDFrame.__nonzero__\u001b[1;34m(self)\u001b[0m\n\u001b[0;32m   1525\u001b[0m \u001b[38;5;129m@final\u001b[39m\n\u001b[0;32m   1526\u001b[0m \u001b[38;5;28;01mdef\u001b[39;00m \u001b[38;5;21m__nonzero__\u001b[39m(\u001b[38;5;28mself\u001b[39m) \u001b[38;5;241m-\u001b[39m\u001b[38;5;241m>\u001b[39m NoReturn:\n\u001b[1;32m-> 1527\u001b[0m     \u001b[38;5;28;01mraise\u001b[39;00m \u001b[38;5;167;01mValueError\u001b[39;00m(\n\u001b[0;32m   1528\u001b[0m         \u001b[38;5;124mf\u001b[39m\u001b[38;5;124m\"\u001b[39m\u001b[38;5;124mThe truth value of a \u001b[39m\u001b[38;5;132;01m{\u001b[39;00m\u001b[38;5;28mtype\u001b[39m(\u001b[38;5;28mself\u001b[39m)\u001b[38;5;241m.\u001b[39m\u001b[38;5;18m__name__\u001b[39m\u001b[38;5;132;01m}\u001b[39;00m\u001b[38;5;124m is ambiguous. \u001b[39m\u001b[38;5;124m\"\u001b[39m\n\u001b[0;32m   1529\u001b[0m         \u001b[38;5;124m\"\u001b[39m\u001b[38;5;124mUse a.empty, a.bool(), a.item(), a.any() or a.all().\u001b[39m\u001b[38;5;124m\"\u001b[39m\n\u001b[0;32m   1530\u001b[0m     )\n",
            "\u001b[1;31mValueError\u001b[0m: The truth value of a DataFrame is ambiguous. Use a.empty, a.bool(), a.item(), a.any() or a.all()."
          ]
        }
      ],
      "source": [
        "articles.dropna?"
      ]
    },
    {
      "cell_type": "code",
      "execution_count": null,
      "metadata": {
        "id": "HIAODfv6ogxy"
      },
      "outputs": [],
      "source": [
        "articles.dropna(inplace=True)"
      ]
    },
    {
      "cell_type": "markdown",
      "metadata": {
        "id": "-ppAL-g3ogxy"
      },
      "source": [
        "Проверим размер датафрейма после удаления пропусков и убедимся, что в датафрейме теперь нет пропусков в данных"
      ]
    },
    {
      "cell_type": "code",
      "execution_count": null,
      "metadata": {
        "id": "IKBwrzSRogxz",
        "outputId": "ff014e90-5463-4254-bd73-513324501491"
      },
      "outputs": [
        {
          "data": {
            "text/plain": [
              "(43694, 8)"
            ]
          },
          "execution_count": 20,
          "metadata": {},
          "output_type": "execute_result"
        }
      ],
      "source": [
        "articles.shape"
      ]
    },
    {
      "cell_type": "markdown",
      "metadata": {
        "id": "P-DoLhgFlVBW"
      },
      "source": [
        "`(43694, 8)`"
      ]
    },
    {
      "cell_type": "code",
      "execution_count": null,
      "metadata": {
        "id": "VZmd3_7vogxz",
        "outputId": "287adf67-0517-47a5-b298-d470b063361b"
      },
      "outputs": [
        {
          "data": {
            "text/plain": [
              "id             0\n",
              "title          0\n",
              "publication    0\n",
              "author         0\n",
              "date           0\n",
              "year           0\n",
              "month          0\n",
              "content        0\n",
              "dtype: int64"
            ]
          },
          "execution_count": 19,
          "metadata": {},
          "output_type": "execute_result"
        }
      ],
      "source": [
        "articles.isnull().sum()"
      ]
    },
    {
      "cell_type": "markdown",
      "metadata": {
        "id": "d9W3MsTnlXPS"
      },
      "source": [
        "```\n",
        "id             0\n",
        "title          0\n",
        "publication    0\n",
        "author         0\n",
        "date           0\n",
        "year           0\n",
        "month          0\n",
        "content        0\n",
        "dtype: int64\n",
        "```"
      ]
    },
    {
      "cell_type": "markdown",
      "metadata": {
        "id": "CCet7g-Hogxz"
      },
      "source": [
        "Проделайте следующие базовые операции с датафреймами:"
      ]
    },
    {
      "cell_type": "markdown",
      "metadata": {
        "id": "28Q9sO6aogxz"
      },
      "source": [
        "# Задача 1\n"
      ]
    },
    {
      "cell_type": "markdown",
      "metadata": {
        "id": "OS--17Qulvma"
      },
      "source": [
        "Определите количество различных издательств в таблице и их имена (используйте для этого методы датафрейма ```unique``` или ```nunique```):"
      ]
    },
    {
      "cell_type": "code",
      "execution_count": null,
      "metadata": {
        "id": "32nqwH0-ccnW",
        "outputId": "1e59a81d-5839-4d5a-e365-94ec792a79d0"
      },
      "outputs": [
        {
          "data": {
            "text/plain": [
              "5"
            ]
          },
          "execution_count": 21,
          "metadata": {},
          "output_type": "execute_result"
        }
      ],
      "source": [
        "articles['publication'].nunique()"
      ]
    },
    {
      "cell_type": "markdown",
      "metadata": {
        "id": "8tmACjP7dc-E"
      },
      "source": [
        "`5`"
      ]
    },
    {
      "cell_type": "code",
      "execution_count": null,
      "metadata": {
        "id": "MZj6Oi8Qogx0",
        "outputId": "ab5d9803-7b40-441b-f482-59ee07c13d9e"
      },
      "outputs": [
        {
          "data": {
            "text/plain": [
              "array(['New York Times', 'Breitbart', 'CNN', 'Business Insider',\n",
              "       'Atlantic'], dtype=object)"
            ]
          },
          "execution_count": 22,
          "metadata": {},
          "output_type": "execute_result"
        }
      ],
      "source": [
        "articles['publication'].unique()"
      ]
    },
    {
      "cell_type": "markdown",
      "metadata": {
        "id": "6FLDGdwbdfmh"
      },
      "source": [
        "```\n",
        "array(['New York Times', 'Breitbart', 'CNN', 'Business Insider',\n",
        "       'Atlantic'], dtype=object)\n",
        "```"
      ]
    },
    {
      "cell_type": "markdown",
      "metadata": {
        "id": "0Jt6UCvfogx0"
      },
      "source": [
        "# Задача 2"
      ]
    },
    {
      "cell_type": "markdown",
      "metadata": {
        "id": "0ImARIkdl1kt"
      },
      "source": [
        "Найдите количество опубликованных статей в отрезке с ```2016-06-03``` по ```2016-12-07``` (включая эти дни)\n",
        "\n",
        "Для этого используйте фильтрацию по условию. С датами можно обращаться просто как со строками.\n",
        "\n",
        "При желании это все можно написать одной строкой."
      ]
    },
    {
      "cell_type": "markdown",
      "metadata": {
        "id": "oQynEOb-l4fb"
      },
      "source": [
        "**Подсказка:** найдите строки c датой публикации ```>=``` стартовой даты и получите булеву маску. Аналогично получите булеву маску для второй даты. Затем с помощью операции ```&``` над двумя булевыми масками получите новый булев массив, в котором ```True``` будет стоять только у тех строк, у которых дата публикации попадает в желаемый отрезок. А затем используйте эту булеву маску как индексы датафрейма."
      ]
    },
    {
      "cell_type": "code",
      "execution_count": null,
      "metadata": {
        "id": "9Qdh-Gxvogx1",
        "outputId": "a0e16c8a-f2b1-4d9c-c67c-a55614a5789c"
      },
      "outputs": [
        {
          "data": {
            "text/plain": [
              "15079"
            ]
          },
          "execution_count": 109,
          "metadata": {},
          "output_type": "execute_result"
        }
      ],
      "source": [
        "articles[(articles['date']>= '2016-06-03') & (articles['date']<= '2016-12-07')].shape[0]"
      ]
    },
    {
      "cell_type": "markdown",
      "metadata": {
        "id": "Vr6v2VAQdwqi"
      },
      "source": [
        "`15079`"
      ]
    },
    {
      "cell_type": "markdown",
      "metadata": {
        "id": "XQQ3Qkovogx1"
      },
      "source": [
        "# Задача 3"
      ]
    },
    {
      "cell_type": "markdown",
      "metadata": {
        "id": "_2socamRl91B"
      },
      "source": [
        "Какое издание выпустило больше всего статей в 2016 году?"
      ]
    },
    {
      "cell_type": "code",
      "execution_count": null,
      "metadata": {
        "id": "7iXJs__Y-Vqc",
        "outputId": "2eeca131-1c11-45fd-b7ac-5e1c6c58b563"
      },
      "outputs": [
        {
          "data": {
            "text/plain": [
              "Breitbart    16100\n",
              "Name: publication, dtype: int64"
            ]
          },
          "execution_count": 189,
          "metadata": {},
          "output_type": "execute_result"
        }
      ],
      "source": [
        "a = articles[articles['year'] ==2016]\n",
        "\n",
        "#b=a.groupby('publication').count()[['id']]\n",
        "#b[b['id']== b['id'].max()]\n",
        "a['publication'].value_counts().head(1)\n"
      ]
    },
    {
      "cell_type": "markdown",
      "metadata": {
        "id": "glldF4jxd0_e"
      },
      "source": [
        "`'Breitbart'`"
      ]
    },
    {
      "cell_type": "markdown",
      "metadata": {
        "id": "JyygmXqdogx1"
      },
      "source": [
        "# Задача 4"
      ]
    },
    {
      "cell_type": "markdown",
      "metadata": {
        "id": "muPaLXTamApv"
      },
      "source": [
        "Посчитайте количество статей автора *Tom Ciccotta* в каждом году.\n",
        "\n",
        "Для этого сначала отберите строки, в которых автором является *Tom Ciccotta*, а затем создайте счетчик из столбца ```year``` (для этого просто позовите метод ```value_counts()``` от столбца ```year```)"
      ]
    },
    {
      "cell_type": "code",
      "execution_count": null,
      "metadata": {
        "id": "pTvLIbutogx2",
        "outputId": "0af0eaf0-9925-418d-d1a4-f741981d68fc"
      },
      "outputs": [
        {
          "data": {
            "text/plain": [
              "2017    132\n",
              "2016    124\n",
              "Name: year, dtype: int64"
            ]
          },
          "execution_count": 46,
          "metadata": {},
          "output_type": "execute_result"
        }
      ],
      "source": [
        "articles[articles['author']=='Tom Ciccotta']['year'].value_counts()"
      ]
    },
    {
      "cell_type": "markdown",
      "metadata": {
        "id": "fTazxCqNd3rT"
      },
      "source": [
        "```\n",
        "2017    132\n",
        "2016    124\n",
        "Name: year, dtype: int64\n",
        "```"
      ]
    },
    {
      "cell_type": "markdown",
      "metadata": {
        "id": "yySMXrd2ogx2"
      },
      "source": [
        "## Задача 5"
      ]
    },
    {
      "cell_type": "markdown",
      "metadata": {
        "id": "3qdDYYJqmGM4"
      },
      "source": [
        "Выпишите названия 3х первых статей автора *John Hayward* в 2016 году.\n",
        "\n",
        "**Подсказка 1:** после отбора статей по автору и году, не забудте отсортировать датафрейм по столбцу даты публикации.\n",
        "\n",
        "**Подсказка 2:** срезы по строкам датафреймов работают так же, как срезы по спискам."
      ]
    },
    {
      "cell_type": "code",
      "execution_count": null,
      "metadata": {
        "id": "IZGcO-90ogx2",
        "outputId": "9730c170-6d24-46db-a009-06030b7e65d1"
      },
      "outputs": [
        {
          "data": {
            "text/plain": [
              "16861    Indonesian Couple Beaten with Canes for Violat...\n",
              "22041    Islamic State Claims Credit For Gun Attack On ...\n",
              "27561    Protests Across India Against Saudi Execution ...\n",
              "Name: title, dtype: object"
            ]
          },
          "execution_count": 229,
          "metadata": {},
          "output_type": "execute_result"
        }
      ],
      "source": [
        "a = articles[(articles['author']=='John Hayward') & (articles['year']==2016)].sort_values(by='date')\n",
        "a.iloc[0:3]['title']"
      ]
    },
    {
      "cell_type": "markdown",
      "metadata": {
        "id": "lSjYtvgad-fS"
      },
      "source": [
        "```\n",
        "array(['Indonesian Couple Beaten with Canes for Violating Sharia Law',\n",
        "       'Islamic State Claims Credit For Gun Attack On Russian Tourists',\n",
        "       'Protests Across India Against Saudi Execution of Shiite Cleric'],\n",
        "      dtype=object)\n",
        "```"
      ]
    },
    {
      "cell_type": "markdown",
      "metadata": {
        "id": "I3NGnVn1ogx2"
      },
      "source": [
        "# Задача 6"
      ]
    },
    {
      "cell_type": "markdown",
      "metadata": {
        "id": "Quq3tUknmOPh"
      },
      "source": [
        "Какой автор на сотом месте по количеству опубликованных статей? Сколько статей он опубликовал?\n",
        "\n",
        "**Подсказка:** для подсчета встречаемости значений используйте метод ```value_counts```. Для доступа к индексам полученного после ```value_counts``` ```pd.Series``` используйте атрибут ```index```"
      ]
    },
    {
      "cell_type": "code",
      "execution_count": null,
      "metadata": {
        "id": "n-jKltL9dq19",
        "outputId": "13153e48-145b-4fec-8409-e21c1daeec97"
      },
      "outputs": [
        {
          "data": {
            "text/plain": [
              "'Milo'"
            ]
          },
          "execution_count": 138,
          "metadata": {},
          "output_type": "execute_result"
        }
      ],
      "source": [
        "a=articles['author'].value_counts()\n",
        "a.index.to_list()[100-1]"
      ]
    },
    {
      "cell_type": "markdown",
      "metadata": {
        "id": "ltbFjaEBeNGh"
      },
      "source": [
        "`'Milo'`"
      ]
    },
    {
      "cell_type": "code",
      "execution_count": null,
      "metadata": {
        "id": "AtCA-i2Kdq1_",
        "outputId": "0804a0c0-bc54-481d-8b0f-5de065781ee0"
      },
      "outputs": [
        {
          "data": {
            "text/plain": [
              "86"
            ]
          },
          "execution_count": 6,
          "metadata": {},
          "output_type": "execute_result"
        }
      ],
      "source": [
        "# число статей\n",
        "a = articles[articles['author'] == 'Milo']\n",
        "a.shape[0]"
      ]
    },
    {
      "cell_type": "markdown",
      "metadata": {
        "id": "yxSaaFGKeOW-"
      },
      "source": [
        "`86`"
      ]
    },
    {
      "cell_type": "markdown",
      "metadata": {
        "id": "Rpu5t2tWogx3"
      },
      "source": [
        "# Работа со строками в датафрейме"
      ]
    },
    {
      "cell_type": "markdown",
      "metadata": {
        "id": "f4h7ifAemrPq"
      },
      "source": [
        "Еще одной важной частью работы с данными является **нормализация данных**.\n",
        "\n",
        "Это особенно актуально при работе с данными в текством формате и при работе с данными из нескольких разнородных источников. Например, один и тот же номер телефона пользователя может записан в базах данных в разных форматах:\n",
        "\n",
        "- `+7(918)123-45-67`\n",
        "- `+7(918)1234567`\n",
        "- `+79181234567`\n",
        "- `+8(918)123-45-67`\n",
        "- `8(918)1234567`\n",
        "- `89181234567`\n",
        "\n",
        "Поэтому важно нормализовывать данные, чтобы иметь возможность объединить все данные, которые относятся к одному реальному объекту.\n",
        "\n",
        "Именно нормализации данных при работе со строками будем учиться в этой части домашней работы."
      ]
    },
    {
      "cell_type": "markdown",
      "metadata": {
        "id": "Xkln992Bogx4"
      },
      "source": [
        "Для датафреймов существуют методы работы со строковыми данными. Чтобы применить их, необходимо воспользоваться атрибутом ```str```, после чего вызвать нужные методы работы со строками. Например, вызов:\n",
        "\n",
        "```df['content'].str.len() ```\n",
        "\n",
        "подсчитает для каждой строчки в датафрейме количество символов в колонке content. Примеры кода по работе с текстовыми данными в pandas можно найти в гайде [working with text data](https://pandas.pydata.org/pandas-docs/stable/user_guide/text.html) документации, там же вы найдете список методов пандаса по работе с текстовыми данными.\n"
      ]
    },
    {
      "cell_type": "markdown",
      "metadata": {
        "id": "jxENWKcYogx4"
      },
      "source": [
        "# Задача 7"
      ]
    },
    {
      "cell_type": "markdown",
      "metadata": {
        "id": "x9P6zjNQmwrG"
      },
      "source": [
        "Найдите в датафрейме всех авторов, имя которых содержит ```Faith```. Выведите Series, состоящий из всех таких уникальных имен."
      ]
    },
    {
      "cell_type": "code",
      "execution_count": null,
      "metadata": {
        "id": "5uP7vGeYj4lB",
        "outputId": "54787453-a5b3-4b68-bc64-a49270c06e5f"
      },
      "outputs": [
        {
          "data": {
            "text/plain": [
              "array([' Faith Haleh Robinson', 'Faith Karimi', 'Faith Haleh Robinson',\n",
              "       'Faith Karimi,', 'Faith Karimi ', 'Faith Karimi, ',\n",
              "       ' Faith Karimi', ' Faith Karimi '], dtype=object)"
            ]
          },
          "execution_count": 11,
          "metadata": {},
          "output_type": "execute_result"
        }
      ],
      "source": [
        "a = articles[articles['author'].str.contains('Faith',na= False)]\n",
        "a['author'].unique()"
      ]
    },
    {
      "cell_type": "markdown",
      "metadata": {
        "id": "k4yoZNyzedCL"
      },
      "source": [
        "```\n",
        "0     Faith Haleh Robinson\n",
        "1             Faith Karimi\n",
        "2     Faith Haleh Robinson\n",
        "3            Faith Karimi,\n",
        "4            Faith Karimi\n",
        "5           Faith Karimi,\n",
        "6             Faith Karimi\n",
        "7            Faith Karimi\n",
        "dtype: object\n",
        "```"
      ]
    },
    {
      "cell_type": "markdown",
      "metadata": {
        "id": "ra73RA_Rogx4"
      },
      "source": [
        "Как можно заметить, в таблице существует множество различных написаний имени Faith Karimi. В основном эти написания различаются пунктуацией - лишние пробелы и запятые. Для правильного подсчета статистик для текстовых данных зачастую возникает необходимость в их предобработке.\n",
        "\n",
        "**Методы строк** можно вспомнить по этой ссылке: https://pythonworld.ru/tipy-dannyx-v-python/stroki-funkcii-i-metody-strok.html\n",
        "\n",
        "Проведите следующие преобразования для колонок ```author``` и ```content```:"
      ]
    },
    {
      "cell_type": "markdown",
      "metadata": {
        "id": "sg9RTogiogx5"
      },
      "source": [
        "# Задача 8"
      ]
    },
    {
      "cell_type": "markdown",
      "metadata": {
        "id": "Pk0XLWDrm5z9"
      },
      "source": [
        "Приведение текста к нижнему регистру:"
      ]
    },
    {
      "cell_type": "code",
      "execution_count": null,
      "metadata": {
        "id": "cpwVoU3wogx5",
        "outputId": "8d6bcd77-3a57-4d17-f14f-0e27bb0df524"
      },
      "outputs": [
        {
          "data": {
            "text/html": [
              "<div>\n",
              "<style scoped>\n",
              "    .dataframe tbody tr th:only-of-type {\n",
              "        vertical-align: middle;\n",
              "    }\n",
              "\n",
              "    .dataframe tbody tr th {\n",
              "        vertical-align: top;\n",
              "    }\n",
              "\n",
              "    .dataframe thead th {\n",
              "        text-align: right;\n",
              "    }\n",
              "</style>\n",
              "<table border=\"1\" class=\"dataframe\">\n",
              "  <thead>\n",
              "    <tr style=\"text-align: right;\">\n",
              "      <th></th>\n",
              "      <th>id</th>\n",
              "      <th>title</th>\n",
              "      <th>publication</th>\n",
              "      <th>author</th>\n",
              "      <th>date</th>\n",
              "      <th>year</th>\n",
              "      <th>month</th>\n",
              "      <th>content</th>\n",
              "    </tr>\n",
              "  </thead>\n",
              "  <tbody>\n",
              "    <tr>\n",
              "      <th>0</th>\n",
              "      <td>17283</td>\n",
              "      <td>House Republicans Fret About Winning Their Hea...</td>\n",
              "      <td>New York Times</td>\n",
              "      <td>carl hulse</td>\n",
              "      <td>2016-12-31</td>\n",
              "      <td>2016</td>\n",
              "      <td>12</td>\n",
              "      <td>washington  —   congressional republicans have...</td>\n",
              "    </tr>\n",
              "    <tr>\n",
              "      <th>1</th>\n",
              "      <td>17284</td>\n",
              "      <td>Rift Between Officers and Residents as Killing...</td>\n",
              "      <td>New York Times</td>\n",
              "      <td>benjamin mueller and al baker</td>\n",
              "      <td>2017-06-19</td>\n",
              "      <td>2017</td>\n",
              "      <td>6</td>\n",
              "      <td>after the bullet shells get counted, the blood...</td>\n",
              "    </tr>\n",
              "    <tr>\n",
              "      <th>2</th>\n",
              "      <td>17285</td>\n",
              "      <td>Tyrus Wong, ‘Bambi’ Artist Thwarted by Racial ...</td>\n",
              "      <td>New York Times</td>\n",
              "      <td>margalit fox</td>\n",
              "      <td>2017-01-06</td>\n",
              "      <td>2017</td>\n",
              "      <td>1</td>\n",
              "      <td>when walt disney’s “bambi” opened in 1942, cri...</td>\n",
              "    </tr>\n",
              "    <tr>\n",
              "      <th>3</th>\n",
              "      <td>17286</td>\n",
              "      <td>Among Deaths in 2016, a Heavy Toll in Pop Musi...</td>\n",
              "      <td>New York Times</td>\n",
              "      <td>william mcdonald</td>\n",
              "      <td>2017-04-10</td>\n",
              "      <td>2017</td>\n",
              "      <td>4</td>\n",
              "      <td>death may be the great equalizer, but it isn’t...</td>\n",
              "    </tr>\n",
              "    <tr>\n",
              "      <th>4</th>\n",
              "      <td>17287</td>\n",
              "      <td>Kim Jong-un Says North Korea Is Preparing to T...</td>\n",
              "      <td>New York Times</td>\n",
              "      <td>choe sang-hun</td>\n",
              "      <td>2017-01-02</td>\n",
              "      <td>2017</td>\n",
              "      <td>1</td>\n",
              "      <td>seoul, south korea  —   north korea’s leader, ...</td>\n",
              "    </tr>\n",
              "  </tbody>\n",
              "</table>\n",
              "</div>"
            ],
            "text/plain": [
              "      id                                              title     publication  \\\n",
              "0  17283  House Republicans Fret About Winning Their Hea...  New York Times   \n",
              "1  17284  Rift Between Officers and Residents as Killing...  New York Times   \n",
              "2  17285  Tyrus Wong, ‘Bambi’ Artist Thwarted by Racial ...  New York Times   \n",
              "3  17286  Among Deaths in 2016, a Heavy Toll in Pop Musi...  New York Times   \n",
              "4  17287  Kim Jong-un Says North Korea Is Preparing to T...  New York Times   \n",
              "\n",
              "                          author        date  year  month  \\\n",
              "0                     carl hulse  2016-12-31  2016     12   \n",
              "1  benjamin mueller and al baker  2017-06-19  2017      6   \n",
              "2                   margalit fox  2017-01-06  2017      1   \n",
              "3               william mcdonald  2017-04-10  2017      4   \n",
              "4                  choe sang-hun  2017-01-02  2017      1   \n",
              "\n",
              "                                             content  \n",
              "0  washington  —   congressional republicans have...  \n",
              "1  after the bullet shells get counted, the blood...  \n",
              "2  when walt disney’s “bambi” opened in 1942, cri...  \n",
              "3  death may be the great equalizer, but it isn’t...  \n",
              "4  seoul, south korea  —   north korea’s leader, ...  "
            ]
          },
          "execution_count": 12,
          "metadata": {},
          "output_type": "execute_result"
        }
      ],
      "source": [
        "new_author = articles['author'].str.lower()\n",
        "articles['author'] = new_author\n",
        "new_content = articles['content'].str.lower()\n",
        "articles['content'] = new_content\n",
        "articles.head()"
      ]
    },
    {
      "cell_type": "markdown",
      "metadata": {
        "id": "gcf2w2zTfOvN"
      },
      "source": [
        "```\n",
        "     id\ttitle\tpublication\tauthor\tdate\tyear\tmonth\tcontent\n",
        "0\t17283\tHouse Republicans Fret About Winning Their Hea...\tNew York Times\tcarl hulse\t2016-12-31\t2016\t12\twashington — congressional republicans have...\n",
        "1\t17284\tRift Between Officers and Residents as Killing...\tNew York Times\tbenjamin mueller and al baker\t2017-06-19\t2017\t6\tafter the bullet shells get counted, the blood...\n",
        "2\t17285\tTyrus Wong, ‘Bambi’ Artist Thwarted by Racial ...\tNew York Times\tmargalit fox\t2017-01-06\t2017\t1\twhen walt disney’s “bambi” opened in 1942, cri...\n",
        "3\t17286\tAmong Deaths in 2016, a Heavy Toll in Pop Musi...\tNew York Times\twilliam mcdonald\t2017-04-10\t2017\t4\tdeath may be the great equalizer, but it isn’t...\n",
        "4\t17287\tKim Jong-un Says North Korea Is Preparing to T...\tNew York Times\tchoe sang-hun\t2017-01-02\t2017\t1\tseoul, south korea — north korea’s leader, ...\n",
        "```"
      ]
    },
    {
      "cell_type": "markdown",
      "metadata": {
        "id": "X74CppvJogx5"
      },
      "source": [
        "# Задача 9"
      ]
    },
    {
      "cell_type": "markdown",
      "metadata": {
        "id": "Z8pwc3LUm9sW"
      },
      "source": [
        "Удаление всей пунктуации из текста.\n",
        "\n",
        "**Подсказка:** для вас уже создано начальное множество символов (достаточно ли его?). Символы надо исключить с помощью метода ```replace```."
      ]
    },
    {
      "cell_type": "markdown",
      "metadata": {
        "id": "Z5_hquhj70cO"
      },
      "source": [
        "Данного множества недостаточно, для примера, не хватает следующих символов: ’, ” и тд."
      ]
    },
    {
      "cell_type": "code",
      "execution_count": null,
      "metadata": {
        "id": "7q3cAes_ogx5"
      },
      "outputs": [],
      "source": [
        "import string\n",
        "punctuation = set(string.punctuation)"
      ]
    },
    {
      "cell_type": "code",
      "execution_count": null,
      "metadata": {
        "id": "Znv69fOuogx6",
        "outputId": "bce0988d-75d3-46e3-8990-4f59ce57c193"
      },
      "outputs": [
        {
          "name": "stderr",
          "output_type": "stream",
          "text": [
            "C:\\Users\\adamc\\AppData\\Local\\Temp\\ipykernel_6068\\2125963329.py:3: FutureWarning: The default value of regex will change from True to False in a future version.\n",
            "  articles['content'] = articles['content'].str.replace('-\\,\"', '')\n"
          ]
        },
        {
          "data": {
            "text/html": [
              "<div>\n",
              "<style scoped>\n",
              "    .dataframe tbody tr th:only-of-type {\n",
              "        vertical-align: middle;\n",
              "    }\n",
              "\n",
              "    .dataframe tbody tr th {\n",
              "        vertical-align: top;\n",
              "    }\n",
              "\n",
              "    .dataframe thead th {\n",
              "        text-align: right;\n",
              "    }\n",
              "</style>\n",
              "<table border=\"1\" class=\"dataframe\">\n",
              "  <thead>\n",
              "    <tr style=\"text-align: right;\">\n",
              "      <th></th>\n",
              "      <th>id</th>\n",
              "      <th>title</th>\n",
              "      <th>publication</th>\n",
              "      <th>author</th>\n",
              "      <th>date</th>\n",
              "      <th>year</th>\n",
              "      <th>month</th>\n",
              "      <th>content</th>\n",
              "    </tr>\n",
              "  </thead>\n",
              "  <tbody>\n",
              "    <tr>\n",
              "      <th>0</th>\n",
              "      <td>17283</td>\n",
              "      <td>House Republicans Fret About Winning Their Hea...</td>\n",
              "      <td>New York Times</td>\n",
              "      <td>carl hulse</td>\n",
              "      <td>2016-12-31</td>\n",
              "      <td>2016</td>\n",
              "      <td>12</td>\n",
              "      <td>washington — congressional republicans have a ...</td>\n",
              "    </tr>\n",
              "    <tr>\n",
              "      <th>1</th>\n",
              "      <td>17284</td>\n",
              "      <td>Rift Between Officers and Residents as Killing...</td>\n",
              "      <td>New York Times</td>\n",
              "      <td>benjamin mueller and al baker</td>\n",
              "      <td>2017-06-19</td>\n",
              "      <td>2017</td>\n",
              "      <td>6</td>\n",
              "      <td>after the bullet shells get counted the blood ...</td>\n",
              "    </tr>\n",
              "    <tr>\n",
              "      <th>2</th>\n",
              "      <td>17285</td>\n",
              "      <td>Tyrus Wong, ‘Bambi’ Artist Thwarted by Racial ...</td>\n",
              "      <td>New York Times</td>\n",
              "      <td>margalit fox</td>\n",
              "      <td>2017-01-06</td>\n",
              "      <td>2017</td>\n",
              "      <td>1</td>\n",
              "      <td>when walt disney’s “bambi” opened in 1942 crit...</td>\n",
              "    </tr>\n",
              "    <tr>\n",
              "      <th>3</th>\n",
              "      <td>17286</td>\n",
              "      <td>Among Deaths in 2016, a Heavy Toll in Pop Musi...</td>\n",
              "      <td>New York Times</td>\n",
              "      <td>william mcdonald</td>\n",
              "      <td>2017-04-10</td>\n",
              "      <td>2017</td>\n",
              "      <td>4</td>\n",
              "      <td>death may be the great equalizer but it isn’t ...</td>\n",
              "    </tr>\n",
              "    <tr>\n",
              "      <th>4</th>\n",
              "      <td>17287</td>\n",
              "      <td>Kim Jong-un Says North Korea Is Preparing to T...</td>\n",
              "      <td>New York Times</td>\n",
              "      <td>choe sanghun</td>\n",
              "      <td>2017-01-02</td>\n",
              "      <td>2017</td>\n",
              "      <td>1</td>\n",
              "      <td>seoul south korea — north korea’s leader kim s...</td>\n",
              "    </tr>\n",
              "    <tr>\n",
              "      <th>...</th>\n",
              "      <td>...</td>\n",
              "      <td>...</td>\n",
              "      <td>...</td>\n",
              "      <td>...</td>\n",
              "      <td>...</td>\n",
              "      <td>...</td>\n",
              "      <td>...</td>\n",
              "      <td>...</td>\n",
              "    </tr>\n",
              "    <tr>\n",
              "      <th>49995</th>\n",
              "      <td>73465</td>\n",
              "      <td>Rex Tillerson Says Climate Change Is Real, but …</td>\n",
              "      <td>Atlantic</td>\n",
              "      <td>robinson meyer</td>\n",
              "      <td>2017-01-11</td>\n",
              "      <td>2017</td>\n",
              "      <td>1</td>\n",
              "      <td>as chairman and ceo of exxonmobil rex tillerso...</td>\n",
              "    </tr>\n",
              "    <tr>\n",
              "      <th>49996</th>\n",
              "      <td>73466</td>\n",
              "      <td>The Biggest Intelligence Questions Raised by t...</td>\n",
              "      <td>Atlantic</td>\n",
              "      <td>amy zegart</td>\n",
              "      <td>2017-01-11</td>\n",
              "      <td>2017</td>\n",
              "      <td>1</td>\n",
              "      <td>i’ve spent nearly 20 years looking at intellig...</td>\n",
              "    </tr>\n",
              "    <tr>\n",
              "      <th>49997</th>\n",
              "      <td>73467</td>\n",
              "      <td>Trump Announces Plan That Does Little to Resol...</td>\n",
              "      <td>Atlantic</td>\n",
              "      <td>jeremy venook</td>\n",
              "      <td>2017-01-11</td>\n",
              "      <td>2017</td>\n",
              "      <td>1</td>\n",
              "      <td>donald trump will not be taking necessary step...</td>\n",
              "    </tr>\n",
              "    <tr>\n",
              "      <th>49998</th>\n",
              "      <td>73468</td>\n",
              "      <td>Dozens of For-Profit Colleges Could Soon Close</td>\n",
              "      <td>Atlantic</td>\n",
              "      <td>emily deruy</td>\n",
              "      <td>2017-01-11</td>\n",
              "      <td>2017</td>\n",
              "      <td>1</td>\n",
              "      <td>dozens of colleges could be forced to close in...</td>\n",
              "    </tr>\n",
              "    <tr>\n",
              "      <th>49999</th>\n",
              "      <td>73469</td>\n",
              "      <td>The Milky Way’s Stolen Stars</td>\n",
              "      <td>Atlantic</td>\n",
              "      <td>marina koren</td>\n",
              "      <td>2017-01-11</td>\n",
              "      <td>2017</td>\n",
              "      <td>1</td>\n",
              "      <td>the force of gravity can be described using a ...</td>\n",
              "    </tr>\n",
              "  </tbody>\n",
              "</table>\n",
              "<p>50000 rows × 8 columns</p>\n",
              "</div>"
            ],
            "text/plain": [
              "          id                                              title  \\\n",
              "0      17283  House Republicans Fret About Winning Their Hea...   \n",
              "1      17284  Rift Between Officers and Residents as Killing...   \n",
              "2      17285  Tyrus Wong, ‘Bambi’ Artist Thwarted by Racial ...   \n",
              "3      17286  Among Deaths in 2016, a Heavy Toll in Pop Musi...   \n",
              "4      17287  Kim Jong-un Says North Korea Is Preparing to T...   \n",
              "...      ...                                                ...   \n",
              "49995  73465   Rex Tillerson Says Climate Change Is Real, but …   \n",
              "49996  73466  The Biggest Intelligence Questions Raised by t...   \n",
              "49997  73467  Trump Announces Plan That Does Little to Resol...   \n",
              "49998  73468    Dozens of For-Profit Colleges Could Soon Close    \n",
              "49999  73469                       The Milky Way’s Stolen Stars   \n",
              "\n",
              "          publication                         author        date  year  month  \\\n",
              "0      New York Times                     carl hulse  2016-12-31  2016     12   \n",
              "1      New York Times  benjamin mueller and al baker  2017-06-19  2017      6   \n",
              "2      New York Times                   margalit fox  2017-01-06  2017      1   \n",
              "3      New York Times               william mcdonald  2017-04-10  2017      4   \n",
              "4      New York Times                   choe sanghun  2017-01-02  2017      1   \n",
              "...               ...                            ...         ...   ...    ...   \n",
              "49995        Atlantic                 robinson meyer  2017-01-11  2017      1   \n",
              "49996        Atlantic                     amy zegart  2017-01-11  2017      1   \n",
              "49997        Atlantic                  jeremy venook  2017-01-11  2017      1   \n",
              "49998        Atlantic                    emily deruy  2017-01-11  2017      1   \n",
              "49999        Atlantic                   marina koren  2017-01-11  2017      1   \n",
              "\n",
              "                                                 content  \n",
              "0      washington — congressional republicans have a ...  \n",
              "1      after the bullet shells get counted the blood ...  \n",
              "2      when walt disney’s “bambi” opened in 1942 crit...  \n",
              "3      death may be the great equalizer but it isn’t ...  \n",
              "4      seoul south korea — north korea’s leader kim s...  \n",
              "...                                                  ...  \n",
              "49995  as chairman and ceo of exxonmobil rex tillerso...  \n",
              "49996  i’ve spent nearly 20 years looking at intellig...  \n",
              "49997  donald trump will not be taking necessary step...  \n",
              "49998  dozens of colleges could be forced to close in...  \n",
              "49999  the force of gravity can be described using a ...  \n",
              "\n",
              "[50000 rows x 8 columns]"
            ]
          },
          "execution_count": 51,
          "metadata": {},
          "output_type": "execute_result"
        }
      ],
      "source": [
        "# может работать несколько секунд\n",
        "articles['content'] = articles['content'].str.replace('['+string.punctuation+']', '', regex=True)\n",
        "articles['content'] = articles['content'].str.replace('-\\,\"', '')\n",
        "articles['content'] = articles['content'].replace('(,$)', '', regex = True)\n",
        "articles['author'] = articles['author'].str.replace('['+string.punctuation+']', '', regex=True)\n",
        "articles"
      ]
    },
    {
      "cell_type": "code",
      "execution_count": null,
      "metadata": {
        "id": "67xpski1ogx6",
        "outputId": "f92fefc1-8ec7-4a24-eb83-578d5549b95c"
      },
      "outputs": [
        {
          "data": {
            "text/plain": [
              "'”back in the late ’90s, getting a startup big enough to get onto the stock market was the thing to do. ” ’now, a market crash, a great recession, and a possible   burst later  —   investors are  and the public stock market is increasingly volatile.’ ’still, going public is often viewed as the end goal for ambitious young tech companies. ’ ”here’s how and why startups wind up on the stock market  —   and why .” ”back in the late ’90s, getting a startup big. ..”'"
            ]
          },
          "execution_count": 300,
          "metadata": {},
          "output_type": "execute_result"
        }
      ],
      "source": [
        "# пример того, что должно получиться после этого шага\n",
        "articles.content.loc[45926]"
      ]
    },
    {
      "cell_type": "markdown",
      "metadata": {
        "id": "gMQnnXElgR_e"
      },
      "source": [
        "```\n",
        "'back in the late 90s getting a startup big enough to get onto the stock market was the thing to do  now a market crash a great recession and a possible burst later  investors are and the public stock market is increasingly volatile still going public is often viewed as the end goal for ambitious young tech companies  heres how and why startups wind up on the stock market  and why  back in the late 90s getting a startup big '\n",
        "```"
      ]
    },
    {
      "cell_type": "markdown",
      "metadata": {
        "id": "bLCpap-nogx6"
      },
      "source": [
        "# Задача 10"
      ]
    },
    {
      "cell_type": "markdown",
      "metadata": {
        "id": "Of73mm9WnFHa"
      },
      "source": [
        "Удаление пробелов в начале и конце строки (воспользуйтесь готовым методом):"
      ]
    },
    {
      "cell_type": "code",
      "execution_count": null,
      "metadata": {
        "id": "Hbg9z8BACi9_",
        "outputId": "ac659ea8-acac-4e9e-b0d8-2d1064f24558"
      },
      "outputs": [
        {
          "data": {
            "text/html": [
              "<div>\n",
              "<style scoped>\n",
              "    .dataframe tbody tr th:only-of-type {\n",
              "        vertical-align: middle;\n",
              "    }\n",
              "\n",
              "    .dataframe tbody tr th {\n",
              "        vertical-align: top;\n",
              "    }\n",
              "\n",
              "    .dataframe thead th {\n",
              "        text-align: right;\n",
              "    }\n",
              "</style>\n",
              "<table border=\"1\" class=\"dataframe\">\n",
              "  <thead>\n",
              "    <tr style=\"text-align: right;\">\n",
              "      <th></th>\n",
              "      <th>id</th>\n",
              "      <th>title</th>\n",
              "      <th>publication</th>\n",
              "      <th>author</th>\n",
              "      <th>date</th>\n",
              "      <th>year</th>\n",
              "      <th>month</th>\n",
              "      <th>content</th>\n",
              "    </tr>\n",
              "  </thead>\n",
              "  <tbody>\n",
              "    <tr>\n",
              "      <th>0</th>\n",
              "      <td>17283</td>\n",
              "      <td>House Republicans Fret About Winning Their Hea...</td>\n",
              "      <td>New York Times</td>\n",
              "      <td>carl hulse</td>\n",
              "      <td>2016-12-31</td>\n",
              "      <td>2016</td>\n",
              "      <td>12</td>\n",
              "      <td>washington — congressional republicans have a ...</td>\n",
              "    </tr>\n",
              "    <tr>\n",
              "      <th>1</th>\n",
              "      <td>17284</td>\n",
              "      <td>Rift Between Officers and Residents as Killing...</td>\n",
              "      <td>New York Times</td>\n",
              "      <td>benjamin mueller and al baker</td>\n",
              "      <td>2017-06-19</td>\n",
              "      <td>2017</td>\n",
              "      <td>6</td>\n",
              "      <td>after the bullet shells get counted the blood ...</td>\n",
              "    </tr>\n",
              "    <tr>\n",
              "      <th>2</th>\n",
              "      <td>17285</td>\n",
              "      <td>Tyrus Wong, ‘Bambi’ Artist Thwarted by Racial ...</td>\n",
              "      <td>New York Times</td>\n",
              "      <td>margalit fox</td>\n",
              "      <td>2017-01-06</td>\n",
              "      <td>2017</td>\n",
              "      <td>1</td>\n",
              "      <td>when walt disney’s “bambi” opened in 1942 crit...</td>\n",
              "    </tr>\n",
              "    <tr>\n",
              "      <th>3</th>\n",
              "      <td>17286</td>\n",
              "      <td>Among Deaths in 2016, a Heavy Toll in Pop Musi...</td>\n",
              "      <td>New York Times</td>\n",
              "      <td>william mcdonald</td>\n",
              "      <td>2017-04-10</td>\n",
              "      <td>2017</td>\n",
              "      <td>4</td>\n",
              "      <td>death may be the great equalizer but it isn’t ...</td>\n",
              "    </tr>\n",
              "    <tr>\n",
              "      <th>4</th>\n",
              "      <td>17287</td>\n",
              "      <td>Kim Jong-un Says North Korea Is Preparing to T...</td>\n",
              "      <td>New York Times</td>\n",
              "      <td>choe sanghun</td>\n",
              "      <td>2017-01-02</td>\n",
              "      <td>2017</td>\n",
              "      <td>1</td>\n",
              "      <td>seoul south korea — north korea’s leader kim s...</td>\n",
              "    </tr>\n",
              "  </tbody>\n",
              "</table>\n",
              "</div>"
            ],
            "text/plain": [
              "      id                                              title     publication  \\\n",
              "0  17283  House Republicans Fret About Winning Their Hea...  New York Times   \n",
              "1  17284  Rift Between Officers and Residents as Killing...  New York Times   \n",
              "2  17285  Tyrus Wong, ‘Bambi’ Artist Thwarted by Racial ...  New York Times   \n",
              "3  17286  Among Deaths in 2016, a Heavy Toll in Pop Musi...  New York Times   \n",
              "4  17287  Kim Jong-un Says North Korea Is Preparing to T...  New York Times   \n",
              "\n",
              "                          author        date  year  month  \\\n",
              "0                     carl hulse  2016-12-31  2016     12   \n",
              "1  benjamin mueller and al baker  2017-06-19  2017      6   \n",
              "2                   margalit fox  2017-01-06  2017      1   \n",
              "3               william mcdonald  2017-04-10  2017      4   \n",
              "4                   choe sanghun  2017-01-02  2017      1   \n",
              "\n",
              "                                             content  \n",
              "0  washington — congressional republicans have a ...  \n",
              "1  after the bullet shells get counted the blood ...  \n",
              "2  when walt disney’s “bambi” opened in 1942 crit...  \n",
              "3  death may be the great equalizer but it isn’t ...  \n",
              "4  seoul south korea — north korea’s leader kim s...  "
            ]
          },
          "execution_count": 52,
          "metadata": {},
          "output_type": "execute_result"
        }
      ],
      "source": [
        "new_author = articles['author'].str.strip()\n",
        "articles['author'] = new_author\n",
        "new_content = articles['content'].str.strip()\n",
        "articles['content'] = new_content\n",
        "articles.head()"
      ]
    },
    {
      "cell_type": "code",
      "execution_count": null,
      "metadata": {
        "colab": {
          "base_uri": "https://localhost:8080/",
          "height": 70
        },
        "id": "6fEM9ws9ogx6",
        "outputId": "8dc89e90-b1df-4fd7-d907-e08efab0b3d8"
      },
      "outputs": [
        {
          "data": {
            "text/plain": [
              "'”back in the late ’90s getting a startup big enough to get onto the stock market was the thing to do ” ’now a market crash a great recession and a possible   burst later  —   investors are  and the public stock market is increasingly volatile’ ’still going public is often viewed as the end goal for ambitious young tech companies ’ ”here’s how and why startups wind up on the stock market  —   and why ” ”back in the late ’90s getting a startup big ”'"
            ]
          },
          "execution_count": 19,
          "metadata": {},
          "output_type": "execute_result"
        }
      ],
      "source": [
        "# check\n",
        "articles.content.loc[45926]"
      ]
    },
    {
      "cell_type": "markdown",
      "metadata": {
        "id": "7EyR7juAgYkz"
      },
      "source": [
        "```\n",
        "'back in the late 90s getting a startup big enough to get onto the stock market was the thing to do  now a market crash a great recession and a possible burst later  investors are and the public stock market is increasingly volatile still going public is often viewed as the end goal for ambitious young tech companies  heres how and why startups wind up on the stock market  and why  back in the late 90s getting a startup big'\n",
        "```"
      ]
    },
    {
      "cell_type": "markdown",
      "metadata": {
        "id": "j3rnMvbsogx6"
      },
      "source": [
        "# Задача 11"
      ]
    },
    {
      "cell_type": "markdown",
      "metadata": {
        "id": "wtINqVchnTXn"
      },
      "source": [
        "Замена подряд идущих пробелов одним пробелом:"
      ]
    },
    {
      "cell_type": "code",
      "execution_count": null,
      "metadata": {
        "id": "sjmXPb4qHDTF",
        "outputId": "08590923-5b61-4452-bcbf-a0e04389cab4"
      },
      "outputs": [
        {
          "data": {
            "text/html": [
              "<div>\n",
              "<style scoped>\n",
              "    .dataframe tbody tr th:only-of-type {\n",
              "        vertical-align: middle;\n",
              "    }\n",
              "\n",
              "    .dataframe tbody tr th {\n",
              "        vertical-align: top;\n",
              "    }\n",
              "\n",
              "    .dataframe thead th {\n",
              "        text-align: right;\n",
              "    }\n",
              "</style>\n",
              "<table border=\"1\" class=\"dataframe\">\n",
              "  <thead>\n",
              "    <tr style=\"text-align: right;\">\n",
              "      <th></th>\n",
              "      <th>id</th>\n",
              "      <th>title</th>\n",
              "      <th>publication</th>\n",
              "      <th>author</th>\n",
              "      <th>date</th>\n",
              "      <th>year</th>\n",
              "      <th>month</th>\n",
              "      <th>content</th>\n",
              "    </tr>\n",
              "  </thead>\n",
              "  <tbody>\n",
              "    <tr>\n",
              "      <th>0</th>\n",
              "      <td>17283</td>\n",
              "      <td>House Republicans Fret About Winning Their Hea...</td>\n",
              "      <td>New York Times</td>\n",
              "      <td>carl hulse</td>\n",
              "      <td>2016-12-31</td>\n",
              "      <td>2016</td>\n",
              "      <td>12</td>\n",
              "      <td>washington — congressional republicans have a ...</td>\n",
              "    </tr>\n",
              "    <tr>\n",
              "      <th>1</th>\n",
              "      <td>17284</td>\n",
              "      <td>Rift Between Officers and Residents as Killing...</td>\n",
              "      <td>New York Times</td>\n",
              "      <td>benjamin mueller and al baker</td>\n",
              "      <td>2017-06-19</td>\n",
              "      <td>2017</td>\n",
              "      <td>6</td>\n",
              "      <td>after the bullet shells get counted the blood ...</td>\n",
              "    </tr>\n",
              "    <tr>\n",
              "      <th>2</th>\n",
              "      <td>17285</td>\n",
              "      <td>Tyrus Wong, ‘Bambi’ Artist Thwarted by Racial ...</td>\n",
              "      <td>New York Times</td>\n",
              "      <td>margalit fox</td>\n",
              "      <td>2017-01-06</td>\n",
              "      <td>2017</td>\n",
              "      <td>1</td>\n",
              "      <td>when walt disney’s “bambi” opened in 1942 crit...</td>\n",
              "    </tr>\n",
              "    <tr>\n",
              "      <th>3</th>\n",
              "      <td>17286</td>\n",
              "      <td>Among Deaths in 2016, a Heavy Toll in Pop Musi...</td>\n",
              "      <td>New York Times</td>\n",
              "      <td>william mcdonald</td>\n",
              "      <td>2017-04-10</td>\n",
              "      <td>2017</td>\n",
              "      <td>4</td>\n",
              "      <td>death may be the great equalizer but it isn’t ...</td>\n",
              "    </tr>\n",
              "    <tr>\n",
              "      <th>4</th>\n",
              "      <td>17287</td>\n",
              "      <td>Kim Jong-un Says North Korea Is Preparing to T...</td>\n",
              "      <td>New York Times</td>\n",
              "      <td>choe sanghun</td>\n",
              "      <td>2017-01-02</td>\n",
              "      <td>2017</td>\n",
              "      <td>1</td>\n",
              "      <td>seoul south korea — north korea’s leader kim s...</td>\n",
              "    </tr>\n",
              "  </tbody>\n",
              "</table>\n",
              "</div>"
            ],
            "text/plain": [
              "      id                                              title     publication  \\\n",
              "0  17283  House Republicans Fret About Winning Their Hea...  New York Times   \n",
              "1  17284  Rift Between Officers and Residents as Killing...  New York Times   \n",
              "2  17285  Tyrus Wong, ‘Bambi’ Artist Thwarted by Racial ...  New York Times   \n",
              "3  17286  Among Deaths in 2016, a Heavy Toll in Pop Musi...  New York Times   \n",
              "4  17287  Kim Jong-un Says North Korea Is Preparing to T...  New York Times   \n",
              "\n",
              "                          author        date  year  month  \\\n",
              "0                     carl hulse  2016-12-31  2016     12   \n",
              "1  benjamin mueller and al baker  2017-06-19  2017      6   \n",
              "2                   margalit fox  2017-01-06  2017      1   \n",
              "3               william mcdonald  2017-04-10  2017      4   \n",
              "4                   choe sanghun  2017-01-02  2017      1   \n",
              "\n",
              "                                             content  \n",
              "0  washington — congressional republicans have a ...  \n",
              "1  after the bullet shells get counted the blood ...  \n",
              "2  when walt disney’s “bambi” opened in 1942 crit...  \n",
              "3  death may be the great equalizer but it isn’t ...  \n",
              "4  seoul south korea — north korea’s leader kim s...  "
            ]
          },
          "execution_count": 53,
          "metadata": {},
          "output_type": "execute_result"
        }
      ],
      "source": [
        "articles['content'] = articles['content'].str.replace('  ', ' ')\n",
        "articles['author'] = articles['author'].str.replace('  ', ' ')\n",
        "articles.head()"
      ]
    },
    {
      "cell_type": "code",
      "execution_count": null,
      "metadata": {
        "id": "lbxJXv7xogx7"
      },
      "outputs": [],
      "source": [
        "# check\n",
        "articles.content.loc[45926]"
      ]
    },
    {
      "cell_type": "markdown",
      "metadata": {
        "id": "L3sE4ksVgeim"
      },
      "source": [
        "```\n",
        "'back in the late 90s getting a startup big enough to get onto the stock market was the thing to do now a market crash a great recession and a possible burst later investors are and the public stock market is increasingly volatile still going public is often viewed as the end goal for ambitious young tech companies heres how and why startups wind up on the stock market and why back in the late 90s getting a startup big'\n",
        "```"
      ]
    },
    {
      "cell_type": "markdown",
      "metadata": {
        "id": "-qYZmgxcogx7"
      },
      "source": [
        "Если последовательно применить код из задач 8-11 к строке ```\"   It's 6 a.m. and I'm still doing this homework :((    \"```, то она преобразуется в строку  ```its 6 am and im still doing this homework```"
      ]
    },
    {
      "cell_type": "code",
      "execution_count": null,
      "metadata": {
        "id": "IkdwmaFiPt11"
      },
      "outputs": [],
      "source": []
    },
    {
      "cell_type": "markdown",
      "metadata": {
        "id": "KLd2agwGogx7"
      },
      "source": [
        "\n",
        "Снова найдите в датафрейме всех авторов, имя которых содержит faith. Проверьте, что теперь различные способы написания «схлопываются» в один."
      ]
    },
    {
      "cell_type": "code",
      "execution_count": null,
      "metadata": {
        "id": "1ocDvicfogx7",
        "outputId": "44b01590-fc80-4587-b576-f883e2b5fe34"
      },
      "outputs": [
        {
          "data": {
            "text/plain": [
              "array(['faith haleh robinson', 'faith karimi'], dtype=object)"
            ]
          },
          "execution_count": 54,
          "metadata": {},
          "output_type": "execute_result"
        }
      ],
      "source": [
        "a = articles[articles['author'].str.contains('faith',na= False)]\n",
        "a['author'].unique()"
      ]
    },
    {
      "cell_type": "markdown",
      "metadata": {
        "id": "wUCdNA7sgkIR"
      },
      "source": [
        "```\n",
        "0    faith haleh robinson\n",
        "1            faith karimi\n",
        "dtype: object\n",
        "```"
      ]
    },
    {
      "cell_type": "markdown",
      "metadata": {
        "id": "TktRnudg-G4R"
      },
      "source": [
        "Еще задачи:\n",
        "\n",
        "- https://www.machinelearningplus.com/python/101-pandas-exercises-python/\n",
        "- https://www.kaggle.com/code/tangchengshun/pandas-75-exercises-with-solutions\n",
        "- https://pandaspractice.com/\n",
        "- https://www.w3resource.com/python-exercises/pandas/index.php\n",
        "- https://grossmend.com/blog/post/pandas_120_part_2/"
      ]
    }
  ],
  "metadata": {
    "colab": {
      "provenance": []
    },
    "kernelspec": {
      "display_name": "Python 3 (ipykernel)",
      "language": "python",
      "name": "python3"
    },
    "language_info": {
      "codemirror_mode": {
        "name": "ipython",
        "version": 3
      },
      "file_extension": ".py",
      "mimetype": "text/x-python",
      "name": "python",
      "nbconvert_exporter": "python",
      "pygments_lexer": "ipython3",
      "version": "3.11.4"
    }
  },
  "nbformat": 4,
  "nbformat_minor": 0
}
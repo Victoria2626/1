{
  "cells": [
    {
      "cell_type": "markdown",
      "metadata": {
        "id": "B7TpktH--KyR"
      },
      "source": [
        "# Домашнее задание 5. NumPy"
      ]
    },
    {
      "cell_type": "markdown",
      "metadata": {
        "id": "KaEoPM0PXy3W"
      },
      "source": [
        "## Полезные ссылки по NumPy:\n",
        "\n",
        "- быстрый старт в NumPy: https://numpy.org/doc/stable/user/quickstart.html\n",
        "- руководство для совсем начинающих изучать NumPy: https://numpy.org/doc/stable/user/absolute_beginners.html\n",
        "- документация с примерами по основным методам NumPy: https://numpy.org/doc/stable/user/basics.html\n",
        "- Справочник методов NumPy: https://www.w3resource.com/python-exercises/numpy/index.php"
      ]
    },
    {
      "cell_type": "markdown",
      "metadata": {
        "id": "wbA9ooKfXy3X"
      },
      "source": [
        "**Примечание.** В этом разделе запрещается пользоваться циклами! Только функции и методы NumPy! Каждая задача в этом разделе решается одной-двумя строками кода. Нужно просто подумать или найти подходящий метод в numpy."
      ]
    },
    {
      "cell_type": "code",
      "execution_count": null,
      "metadata": {
        "id": "zljkZCKYXy3Y"
      },
      "outputs": [],
      "source": [
        "import numpy as np"
      ]
    },
    {
      "cell_type": "markdown",
      "metadata": {
        "id": "0cpznsR-5wpj"
      },
      "source": [
        "# Работа с одномерными массивами"
      ]
    },
    {
      "cell_type": "markdown",
      "metadata": {
        "id": "4pW30ELYXy3Z"
      },
      "source": [
        "## Задача 1"
      ]
    },
    {
      "cell_type": "markdown",
      "metadata": {
        "id": "k-_qotBq3vKs"
      },
      "source": [
        "Создайте одномерный массив чисел от 0 до 8.\n",
        "\n",
        "Сделайте это двумя способами:"
      ]
    },
    {
      "cell_type": "markdown",
      "metadata": {
        "id": "jD8I5A4T31sI"
      },
      "source": [
        "- с помощью `arange`"
      ]
    },
    {
      "cell_type": "code",
      "execution_count": null,
      "metadata": {
        "id": "9yP0C45YXy3Z",
        "outputId": "ddcd4202-c8e2-4b20-ba62-c4e0c3ea3092"
      },
      "outputs": [
        {
          "name": "stdout",
          "output_type": "stream",
          "text": [
            "[0 1 2 3 4 5 6 7 8]\n"
          ]
        }
      ],
      "source": [
        "print(np.arange(0,9))"
      ]
    },
    {
      "cell_type": "markdown",
      "metadata": {
        "id": "_NBzid_E30a7"
      },
      "source": [
        "- с помощью преобразования списка (list) в numpy `array`"
      ]
    },
    {
      "cell_type": "code",
      "execution_count": null,
      "metadata": {
        "id": "7KKn5sd33yY8",
        "outputId": "cc0a117e-e205-45d7-e0c6-17cbe1cc4eb6"
      },
      "outputs": [
        {
          "name": "stdout",
          "output_type": "stream",
          "text": [
            "[0 1 2 3 4 5 6 7 8]\n"
          ]
        }
      ],
      "source": [
        "a = np.array([0, 1, 2, 3, 4, 5, 6, 7, 8])\n",
        "print(a)"
      ]
    },
    {
      "cell_type": "markdown",
      "metadata": {
        "id": "JIowtWtM3e4-"
      },
      "source": [
        "`array([0, 1, 2, 3, 4, 5, 6, 7, 8])`"
      ]
    },
    {
      "cell_type": "markdown",
      "metadata": {
        "id": "ns8SlkFyXy3a"
      },
      "source": [
        "## Задача 2"
      ]
    },
    {
      "cell_type": "markdown",
      "metadata": {
        "id": "O_ktDJgS4G7J"
      },
      "source": [
        "Создайте массив numpy размером 3×3 со всеми значениями, равными `True`.\n",
        "\n",
        "*Подсказка:* создайте массив из единиц и приведите тип массива к `bool`."
      ]
    },
    {
      "cell_type": "code",
      "execution_count": null,
      "metadata": {
        "id": "SEpr7fNhXy3a",
        "outputId": "da5fe065-9d2e-48b9-f639-14ba5c65dd30"
      },
      "outputs": [
        {
          "data": {
            "text/plain": [
              "array([[ True,  True,  True],\n",
              "       [ True,  True,  True],\n",
              "       [ True,  True,  True]])"
            ]
          },
          "execution_count": 14,
          "metadata": {},
          "output_type": "execute_result"
        }
      ],
      "source": [
        "m = np.ones((3,3))\n",
        "m > 0"
      ]
    },
    {
      "cell_type": "markdown",
      "metadata": {
        "id": "6BSP_ryE3gwl"
      },
      "source": [
        "```\n",
        "array([[ True,  True,  True],\n",
        "       [ True,  True,  True],\n",
        "       [ True,  True,  True]])\n",
        "```"
      ]
    },
    {
      "cell_type": "markdown",
      "metadata": {
        "id": "1d4vFBzRXy3b"
      },
      "source": [
        "## Задача 3"
      ]
    },
    {
      "cell_type": "markdown",
      "metadata": {
        "id": "RIiuxzem4PRy"
      },
      "source": [
        "Вам дан массив под названием `test_array`. Выведите положительные элементы этого массива."
      ]
    },
    {
      "cell_type": "code",
      "execution_count": null,
      "metadata": {
        "id": "VH61lY4jXy3b"
      },
      "outputs": [],
      "source": [
        "test_array = np.array([ 0, -1,  5, -3,  7, -1,  6, -1,  8, -1])"
      ]
    },
    {
      "cell_type": "code",
      "execution_count": null,
      "metadata": {
        "id": "gbVnapX0Xy3b",
        "outputId": "e8a8c915-1722-4312-b72e-1827dd7d31db"
      },
      "outputs": [
        {
          "data": {
            "text/plain": [
              "array([5, 7, 6, 8])"
            ]
          },
          "execution_count": 17,
          "metadata": {},
          "output_type": "execute_result"
        }
      ],
      "source": [
        "test_array[test_array>0]"
      ]
    },
    {
      "cell_type": "markdown",
      "metadata": {
        "id": "_sKqU7Kk3sXa"
      },
      "source": [
        "`array([5, 7, 6, 8])`"
      ]
    },
    {
      "cell_type": "markdown",
      "metadata": {
        "id": "6mX1p74CXy3c"
      },
      "source": [
        "## Задача 4"
      ]
    },
    {
      "cell_type": "markdown",
      "metadata": {
        "id": "1Vpnei8U4V_A"
      },
      "source": [
        "Замените отрицательные элементы из массива `test_array` на `0`.\n",
        "\n",
        "*Подсказка:* вам пригодится функция `np.where`."
      ]
    },
    {
      "cell_type": "code",
      "execution_count": null,
      "metadata": {
        "id": "awP9wvhOXy3c",
        "outputId": "0b7d6828-3aff-4ffa-b473-09ddc81c8c9a"
      },
      "outputs": [
        {
          "data": {
            "text/plain": [
              "array([0, 0, 5, 0, 7, 0, 6, 0, 8, 0])"
            ]
          },
          "execution_count": 22,
          "metadata": {},
          "output_type": "execute_result"
        }
      ],
      "source": [
        "np.where(test_array<0, 0, test_array)"
      ]
    },
    {
      "cell_type": "markdown",
      "metadata": {
        "id": "8O4wwV334tM3"
      },
      "source": [
        "`array([0, 0, 5, 0, 7, 0, 6, 0, 8, 0])`"
      ]
    },
    {
      "cell_type": "markdown",
      "metadata": {
        "id": "MIqnug_bXy3c"
      },
      "source": [
        "## Задача 5"
      ]
    },
    {
      "cell_type": "markdown",
      "metadata": {
        "id": "i8ykO8C642bi"
      },
      "source": [
        "Вам дан массив из 10 чисел. Найдите позицию максимального элемента в заданном массиве."
      ]
    },
    {
      "cell_type": "code",
      "execution_count": null,
      "metadata": {
        "id": "sjQWGZ5tXy3d"
      },
      "outputs": [],
      "source": [
        "array = np.array([6, 8, 4, 2, 11, -3, 7, 22, -20, -30])"
      ]
    },
    {
      "cell_type": "code",
      "execution_count": null,
      "metadata": {
        "id": "xD8erENBXy3d",
        "outputId": "5a6418c8-79dd-49a7-aacc-7ea00ecbc3e8"
      },
      "outputs": [
        {
          "name": "stdout",
          "output_type": "stream",
          "text": [
            "7\n"
          ]
        }
      ],
      "source": [
        "m =  np.argsort(array)\n",
        "print(m[9])"
      ]
    },
    {
      "cell_type": "markdown",
      "metadata": {
        "id": "6pKF_L1R47Gt"
      },
      "source": [
        "`7`"
      ]
    },
    {
      "cell_type": "markdown",
      "metadata": {
        "id": "spWminyiXy3d"
      },
      "source": [
        "## Задача 6"
      ]
    },
    {
      "cell_type": "markdown",
      "metadata": {
        "id": "6Nb0fiNA5KEH"
      },
      "source": [
        "Вам дан словарь, в котором подсчитаны частоты женских имен в выборке из 26 новорожденных девочек."
      ]
    },
    {
      "cell_type": "code",
      "execution_count": null,
      "metadata": {
        "colab": {
          "base_uri": "https://localhost:8080/"
        },
        "id": "x1FcthKzXy3e",
        "outputId": "925bf048-1366-4d28-8a1c-b0af19477ab4"
      },
      "outputs": [
        {
          "data": {
            "text/plain": [
              "{'Катя': 8, 'Maша': 5, 'Вероника': 2, 'Ярослава': 1, 'Александра': 10}"
            ]
          },
          "execution_count": 12,
          "metadata": {},
          "output_type": "execute_result"
        }
      ],
      "source": [
        "names = dict()\n",
        "names['Катя'] = 8\n",
        "names[\"Maша\"] = 5\n",
        "names[\"Вероника\"] = 2\n",
        "names[\"Ярослава\"] = 1\n",
        "names[\"Александра\"] = 10\n",
        "\n",
        "names"
      ]
    },
    {
      "cell_type": "markdown",
      "metadata": {
        "id": "CXetA03XXy3e"
      },
      "source": [
        "Посчитайте процентные доли имен с помощью нормирования вектора значений.\n",
        "\n",
        "*Подсказка:* просто возьмите этот вектор значений и поделите его на сумму элементов в нем"
      ]
    },
    {
      "cell_type": "code",
      "execution_count": null,
      "metadata": {
        "id": "V_jE6SeaXy3f",
        "outputId": "7515acd5-5632-4b1d-a5bf-f335dfde2f43"
      },
      "outputs": [
        {
          "data": {
            "text/plain": [
              "array([0.30769231, 0.19230769, 0.07692308, 0.03846154, 0.38461538])"
            ]
          },
          "execution_count": 51,
          "metadata": {},
          "output_type": "execute_result"
        }
      ],
      "source": [
        "values = names.values()\n",
        "a = list(values)\n",
        "b = np.array(a)\n",
        "b/26\n"
      ]
    },
    {
      "cell_type": "markdown",
      "metadata": {
        "id": "NO8WLL1S5OS3"
      },
      "source": [
        "`array([0.30769231, 0.19230769, 0.07692308, 0.03846154, 0.38461538])`"
      ]
    },
    {
      "cell_type": "markdown",
      "metadata": {
        "id": "q9xFaYhrXy3f"
      },
      "source": [
        "**Примечание:** мы только что произвели операцию **нормирования вектора** (теперь его элементы суммируются в 1), а получившиеся элементы можно интерпретировать как **вероятности** (в примере выше это вероятности того, что случайно взятая новорожденная девочка будет иметь какое-то конкретное имя)"
      ]
    },
    {
      "cell_type": "markdown",
      "metadata": {
        "id": "15ng8uLSXy3g"
      },
      "source": [
        "## Задача 7"
      ]
    },
    {
      "cell_type": "markdown",
      "metadata": {
        "id": "raESZnSU5RNM"
      },
      "source": [
        "Вам дан массив `arr`. Выведите все его элементы, которые строго больше 5, и строго меньше 9.\n",
        "\n",
        "*Подсказка:* здесь можно также использовать булевы маски."
      ]
    },
    {
      "cell_type": "code",
      "execution_count": null,
      "metadata": {
        "id": "vqmEaKZuXy3g"
      },
      "outputs": [],
      "source": [
        "arr = np.array([7, 2, 10, 2, 7, 4, 9, 4, 9, 8])"
      ]
    },
    {
      "cell_type": "code",
      "execution_count": null,
      "metadata": {
        "id": "78qJl67tXy3g",
        "outputId": "b4a8b508-348f-49c2-cf4d-d393e736b634"
      },
      "outputs": [
        {
          "data": {
            "text/plain": [
              "array([7, 7, 8])"
            ]
          },
          "execution_count": 71,
          "metadata": {},
          "output_type": "execute_result"
        }
      ],
      "source": [
        "b = arr[arr>5]\n",
        "b[b<9]"
      ]
    },
    {
      "cell_type": "markdown",
      "metadata": {
        "id": "GPit3gpI5r09"
      },
      "source": [
        "`array([7, 7, 8])`"
      ]
    },
    {
      "cell_type": "markdown",
      "metadata": {
        "id": "zk2fbpIkXy3h"
      },
      "source": [
        "# Работа с двумерными массивами"
      ]
    },
    {
      "cell_type": "markdown",
      "metadata": {
        "id": "fN5ZnOMjXy3h"
      },
      "source": [
        "## Задача 8"
      ]
    },
    {
      "cell_type": "markdown",
      "metadata": {
        "id": "S1evhWE651KV"
      },
      "source": [
        "Создайте одномерный массив из 12 элементов от 0 до 11 и сделайте из него матрицу размером 3х4 (вам пригодится функция `np.reshape`)"
      ]
    },
    {
      "cell_type": "code",
      "execution_count": null,
      "metadata": {
        "id": "naHaxgwwXy3h",
        "outputId": "d652e556-036f-4516-e356-72aab7f5b1da"
      },
      "outputs": [
        {
          "data": {
            "text/plain": [
              "array([[ 0,  1,  2,  3],\n",
              "       [ 4,  5,  6,  7],\n",
              "       [ 8,  9, 10, 11]])"
            ]
          },
          "execution_count": 76,
          "metadata": {},
          "output_type": "execute_result"
        }
      ],
      "source": [
        "np.arange(0,12).reshape(3,4)"
      ]
    },
    {
      "cell_type": "markdown",
      "metadata": {
        "id": "eHGQXwef556I"
      },
      "source": [
        "```\n",
        "array([[ 0,  1,  2,  3],\n",
        "       [ 4,  5,  6,  7],\n",
        "       [ 8,  9, 10, 11]])\n",
        "```"
      ]
    },
    {
      "cell_type": "markdown",
      "metadata": {
        "id": "PmVPHNT9Xy3h"
      },
      "source": [
        "## Задача 9"
      ]
    },
    {
      "cell_type": "markdown",
      "metadata": {
        "id": "QGaBYbOI5-WP"
      },
      "source": [
        "Соедините вертикально две созданные матрицы `a` и `b`."
      ]
    },
    {
      "cell_type": "code",
      "execution_count": null,
      "metadata": {
        "id": "s6cvlL7GXy3i"
      },
      "outputs": [],
      "source": [
        "a = np.arange(8).reshape(2,4)\n",
        "b = np.ones(8).reshape(2,4)"
      ]
    },
    {
      "cell_type": "code",
      "execution_count": null,
      "metadata": {
        "id": "18E0Vz6UXy3i",
        "outputId": "732143da-6b78-44d3-c3eb-5d9b3c4f89f0"
      },
      "outputs": [
        {
          "data": {
            "text/plain": [
              "array([[0., 1., 2., 3.],\n",
              "       [4., 5., 6., 7.],\n",
              "       [1., 1., 1., 1.],\n",
              "       [1., 1., 1., 1.]])"
            ]
          },
          "execution_count": 92,
          "metadata": {},
          "output_type": "execute_result"
        }
      ],
      "source": [
        "np.concatenate((a, b))"
      ]
    },
    {
      "cell_type": "markdown",
      "metadata": {
        "id": "O_sD3isa6BJ9"
      },
      "source": [
        "```\n",
        "array([[0., 1., 2., 3.],\n",
        "       [4., 5., 6., 7.],\n",
        "       [1., 1., 1., 1.],\n",
        "       [1., 1., 1., 1.]])\n",
        "```"
      ]
    },
    {
      "cell_type": "markdown",
      "metadata": {
        "id": "Hp3QgzqsXy3i"
      },
      "source": [
        "## Задача 10"
      ]
    },
    {
      "cell_type": "markdown",
      "metadata": {
        "id": "kS6BMuCE6Ej8"
      },
      "source": [
        "Теперь соедините эти же две матрицы горизонтально."
      ]
    },
    {
      "cell_type": "code",
      "execution_count": null,
      "metadata": {
        "id": "AW1ysttaXy3j",
        "outputId": "09fd5fb0-1118-4cfd-ca15-e84342e83135"
      },
      "outputs": [
        {
          "data": {
            "text/plain": [
              "array([[0., 1., 2., 3., 1., 1., 1., 1.],\n",
              "       [4., 5., 6., 7., 1., 1., 1., 1.]])"
            ]
          },
          "execution_count": 96,
          "metadata": {},
          "output_type": "execute_result"
        }
      ],
      "source": [
        "np.concatenate((a, b),axis=1)"
      ]
    },
    {
      "cell_type": "markdown",
      "metadata": {
        "id": "1FctFjGK6Gma"
      },
      "source": [
        "```\n",
        "array([[0., 1., 2., 3., 1., 1., 1., 1.],\n",
        "       [4., 5., 6., 7., 1., 1., 1., 1.]])\n",
        "```"
      ]
    },
    {
      "cell_type": "markdown",
      "metadata": {
        "id": "cO0UywATXy3j"
      },
      "source": [
        "## Задача 11"
      ]
    },
    {
      "cell_type": "markdown",
      "metadata": {
        "id": "hR0sTWRt6PzD"
      },
      "source": [
        "Сохраните в отдельную переменную второй столбец (столбец с индексом 1) из данного вам двумерного массива.\n",
        "\n",
        "**Примечание:** при вырезании столбца из матрицы, у вас получится одномерный numpy-array, а не двумерная матрица с одним столбцом!"
      ]
    },
    {
      "cell_type": "code",
      "execution_count": null,
      "metadata": {
        "colab": {
          "base_uri": "https://localhost:8080/"
        },
        "id": "OiF6PNLaXy3j",
        "outputId": "ccb4a795-8552-4dfc-efef-41a7f5047226"
      },
      "outputs": [
        {
          "data": {
            "text/plain": [
              "array([[ 0,  1,  2,  3],\n",
              "       [ 4,  5,  6,  7],\n",
              "       [ 8,  9, 10, 11]])"
            ]
          },
          "execution_count": 97,
          "metadata": {},
          "output_type": "execute_result"
        }
      ],
      "source": [
        "arr = np.arange(12).reshape(3,4)\n",
        "arr"
      ]
    },
    {
      "cell_type": "code",
      "execution_count": null,
      "metadata": {
        "id": "p3kfwxOVXy3k",
        "outputId": "9edc3abc-c7c4-4eb8-9ada-6f46f90ea2f6"
      },
      "outputs": [
        {
          "data": {
            "text/plain": [
              "array([1, 5, 9])"
            ]
          },
          "execution_count": 99,
          "metadata": {},
          "output_type": "execute_result"
        }
      ],
      "source": [
        "arr[:,1]"
      ]
    },
    {
      "cell_type": "markdown",
      "metadata": {
        "id": "R5OYd2bM6WHV"
      },
      "source": [
        "```\n",
        "array([1, 5, 9])\n",
        "```"
      ]
    },
    {
      "cell_type": "markdown",
      "metadata": {
        "id": "Kqx9ejwSXy3k"
      },
      "source": [
        "## Задача 12"
      ]
    },
    {
      "cell_type": "markdown",
      "metadata": {
        "id": "QV7bbrJq6gEe"
      },
      "source": [
        "Создайте массив из случайных чисел размера 3 на 4 (3 строки и 4 столбца) и сохраните его в переменную `random_array`. Найдите среднее, медиану, стандартное отклонение созданной матрицы `random_array` по строкам и по столбцам.\n",
        "\n",
        "**Вывод вашего кода** - по одной строке на среднее, медиану, и стандартное отклонение для операций по строкам и по столбцам (всего 6 строк кода)."
      ]
    },
    {
      "cell_type": "code",
      "execution_count": null,
      "metadata": {
        "id": "NqnBKuG1Xy3l",
        "outputId": "d8bcf777-6452-43d8-8b14-d68dfd84370b"
      },
      "outputs": [
        {
          "name": "stdout",
          "output_type": "stream",
          "text": [
            "[12.5   9.25  9.  ]\n",
            "[ 7.33333333 15.          4.33333333 14.33333333]\n",
            "[ 7. 16.  3. 14.]\n",
            "[15.5  9.5  8.5]\n",
            "[6.12825877 3.74165739 3.39934634 2.86744176]\n",
            "[6.72681202 1.47901995 7.77817459]\n"
          ]
        }
      ],
      "source": [
        "random_array = np.random.choice(a=np.arange(20), size=(3,4), replace=False)\n",
        "\n",
        "#среднее по строкам:\n",
        "print(random_array.mean(axis = 1))\n",
        "\n",
        "#среднее по столбцам:\n",
        "print(random_array.mean(axis = 0))\n",
        "\n",
        "#медиана по столбцам:\n",
        "print(np.median(random_array, axis = 0))\n",
        "\n",
        "#медиана по строкам:\n",
        "print(np.median(random_array, axis = 1))\n",
        "\n",
        "#ст. отклонение по столбцам:\n",
        "print(np.std(random_array, axis = 0))\n",
        "\n",
        "#ст. отклонение по строкам:\n",
        "print(np.std(random_array, axis = 1))"
      ]
    },
    {
      "cell_type": "markdown",
      "metadata": {
        "id": "983ZZbxkXy3l"
      },
      "source": [
        "## Задача 13"
      ]
    },
    {
      "cell_type": "markdown",
      "metadata": {
        "id": "a4RkNBVG7JRN"
      },
      "source": [
        "Преобразуйте заданный одномерный массив `arr` в двумерную матрицу из одного столбца и проверьте ее форму."
      ]
    },
    {
      "cell_type": "code",
      "execution_count": null,
      "metadata": {
        "id": "IdoA2v75Xy3l",
        "outputId": "88faf0e0-b758-4250-f20d-f540dd61af11"
      },
      "outputs": [
        {
          "data": {
            "text/plain": [
              "(5,)"
            ]
          },
          "execution_count": 18,
          "metadata": {},
          "output_type": "execute_result"
        }
      ],
      "source": [
        "arr = np.array([2, 4, 5, 7, 100])\n",
        "arr.shape"
      ]
    },
    {
      "cell_type": "code",
      "execution_count": null,
      "metadata": {
        "id": "JljZ7PTgXy3l",
        "outputId": "3915cda1-5b99-4fb3-a18c-4c20a5f134ed"
      },
      "outputs": [
        {
          "name": "stdout",
          "output_type": "stream",
          "text": [
            "[[  2]\n",
            " [  4]\n",
            " [  5]\n",
            " [  7]\n",
            " [100]]\n"
          ]
        },
        {
          "data": {
            "text/plain": [
              "(5, 1)"
            ]
          },
          "execution_count": 22,
          "metadata": {},
          "output_type": "execute_result"
        }
      ],
      "source": [
        "b = arr.reshape(5,1)\n",
        "print(b)\n",
        "b.shape"
      ]
    },
    {
      "cell_type": "markdown",
      "metadata": {
        "id": "IvOpwsbd7ShD"
      },
      "source": [
        "```\n",
        "array([[  2],\n",
        "       [  4],\n",
        "       [  5],\n",
        "       [  7],\n",
        "       [100]])\n",
        "```"
      ]
    },
    {
      "cell_type": "markdown",
      "metadata": {
        "id": "jlKNJVeU7VCT"
      },
      "source": [
        "```\n",
        "(5, 1)\n",
        "```"
      ]
    },
    {
      "cell_type": "markdown",
      "metadata": {
        "id": "Oh4yiBjRXy3m"
      },
      "source": [
        "Проверьте, что будет, если этот столбец вычесть из какой-нибудь матрицы размерности `(5, 3)`? Как numpy вычитает столбец из матрицы?"
      ]
    },
    {
      "cell_type": "code",
      "execution_count": null,
      "metadata": {
        "id": "Q0tPMl4nXy3m",
        "outputId": "f67a2a87-10a9-4714-fde7-823d1d1f6ad2"
      },
      "outputs": [
        {
          "name": "stdout",
          "output_type": "stream",
          "text": [
            "[[ 1  2  3]\n",
            " [ 4  5  6]\n",
            " [ 7  8  9]\n",
            " [10 11 12]\n",
            " [13 14 15]]\n",
            "[[ -1   0   1]\n",
            " [  0   1   2]\n",
            " [  2   3   4]\n",
            " [  3   4   5]\n",
            " [-87 -86 -85]]\n"
          ]
        }
      ],
      "source": [
        "c = np.arange(1,16).reshape(5,3)\n",
        "print(c)\n",
        "print(c - b)"
      ]
    },
    {
      "cell_type": "markdown",
      "metadata": {
        "id": "glQ2eltPXy3n"
      },
      "source": [
        "## Задача 14"
      ]
    },
    {
      "cell_type": "markdown",
      "metadata": {
        "id": "mtfTZjEh7bbA"
      },
      "source": [
        "Найдите средние значения по строкам у созданной в 12-м задании матрицы `random_array`. Вычтите полученные средние значения из соответствующих строк изначальной матрицы `random_array`. Проверьте, что после вычитания средних, среднее по каждой строке стало равно 0."
      ]
    },
    {
      "cell_type": "code",
      "execution_count": null,
      "metadata": {
        "id": "NhGpsNl_Xy3n",
        "outputId": "bf9492d1-f7bf-49a0-b444-53238cd0090d"
      },
      "outputs": [
        {
          "name": "stdout",
          "output_type": "stream",
          "text": [
            "[12.5   9.25  9.  ]\n",
            "[0. 0. 0.]\n"
          ]
        }
      ],
      "source": [
        "random_array\n",
        "print(random_array.mean(axis = 1))\n",
        "b = random_array.mean(axis = 1)\n",
        "c = b.reshape(3,1)\n",
        "w = np.tile(c,(1,4))\n",
        "raz = random_array - w\n",
        "print(raz.mean(axis = 1))"
      ]
    },
    {
      "cell_type": "markdown",
      "metadata": {
        "id": "-tbDXnFTXy3n"
      },
      "source": [
        "**Примечание:** умение numpy догадываться о том, как можно прибавлять число к вектору/число к матрице/вектор к матрице и прочие подобные операции, называется ```broadcasting```. То есть numpy растягивает массивы меньшей размерности до массива большей размерности, чтобы у них стали одинаковые размерности, по особым правилам, которые позволяют довольно интуитивно вычесть строку из матрицы, и эта строка вычтется из каждой строки матрицы. Почитать об этом подробнее можно [здесь](https://numpy.org/doc/stable/user/basics.broadcasting.html) и[здесь](https://machinelearningmastery.com/broadcasting-with-numpy-arrays/) .\n",
        "\n",
        "А вот еще и наглядные картинки, которые показывают, как работает broadcasting\n",
        "\n",
        "![](https://www.tutorialspoint.com/numpy/images/array.jpg)\n",
        "![](https://jakevdp.github.io/PythonDataScienceHandbook/figures/02.05-broadcasting.png)\n",
        "![](https://i.stack.imgur.com/JcKv1.png)"
      ]
    },
    {
      "cell_type": "markdown",
      "metadata": {
        "id": "GvOsRYmHXy3o"
      },
      "source": [
        "## Задача 15"
      ]
    },
    {
      "cell_type": "markdown",
      "metadata": {
        "id": "OklwSdgN7nHz"
      },
      "source": [
        "Запрограммируйте вычисление следующей формулы с помощью numpy:\n",
        "\n",
        "$$\n",
        "y = x + 2\\sqrt{x} + 8 \\cos (\\frac{x^2}{5})\n",
        "$$\n",
        "\n",
        "И постройте ее график (достаточно запустить ячейку с кодом)\n",
        "\n",
        "Справочник по математическим функциям в numpy: https://numpy.org/doc/stable/reference/routines.math.html\n",
        "\n",
        "Помните, что операции над массивами в numpу поэлементные, а значит, вы можете просто писать формулу для одной переменной, и numpy применит ее ко всем элементам массива."
      ]
    },
    {
      "cell_type": "code",
      "execution_count": null,
      "metadata": {
        "id": "ks2QiYbdXy3o"
      },
      "outputs": [],
      "source": [
        "x = np.linspace(0, 10, 100)\n",
        "y = x + 2*np.sqrt(x) + 8* np.cos((np.power(x, 2))/5)"
      ]
    },
    {
      "cell_type": "code",
      "execution_count": null,
      "metadata": {
        "colab": {
          "base_uri": "https://localhost:8080/",
          "height": 268
        },
        "id": "AwpXTRstXy3o",
        "outputId": "f373c9fe-e955-45dd-9cc0-844d04d23f8e"
      },
      "outputs": [
        {
          "data": {
            "image/png": "[encoded data removed]",
            "text/plain": [
              "<Figure size 640x480 with 1 Axes>"
            ]
          },
          "metadata": {},
          "output_type": "display_data"
        }
      ],
      "source": [
        "from matplotlib import pyplot as plt\n",
        "\n",
        "plt.plot(x, y)\n",
        "plt.show()"
      ]
    },
    {
      "cell_type": "markdown",
      "metadata": {
        "id": "A48P3O7hdyS2"
      },
      "source": [
        "## Задача 16\n"
      ]
    },
    {
      "cell_type": "markdown",
      "metadata": {
        "id": "stz-TvN67yPZ"
      },
      "source": [
        "**Реализуйте задачу с и без помощи numpy, сравните время выполнения.**\n",
        "\n",
        "Написать две функции `py_mean(n)` и `np_mean(n)`, каждая из которых принимает на вход целое число n - длину последовательности, генерирует ее (использовать range и np.arange), а затем находит и возвращает среднее арифметическое ее членов (вам помогут `sum` и `np.mean`).\n",
        "\n",
        "Важно, что в одном случае должны использоваться только встроенные функции языка Python3, а в случае с numpy работать нужно **только** с его абстракциями (от создания массива и заканчивая вычислением).\n",
        "\n",
        "Произведите измерения для различных размеров выборки: `1e1, 1e3, 1e5, 1e7`\n",
        "\n",
        "Напишите выводы, что вы заметили."
      ]
    },
    {
      "cell_type": "code",
      "execution_count": null,
      "metadata": {
        "id": "hvmLROE2d84h",
        "outputId": "be508e27-66b9-405b-da6a-2d24cf217a48"
      },
      "outputs": [
        {
          "name": "stdout",
          "output_type": "stream",
          "text": [
            "Указывайте %%time в начале клетки, чтобы посмотреть время её выполнения\n",
            "CPU times: total: 0 ns\n",
            "Wall time: 0 ns\n"
          ]
        }
      ],
      "source": [
        "%%time\n",
        "print('Указывайте %%time в начале клетки, чтобы посмотреть время её выполнения')"
      ]
    },
    {
      "cell_type": "code",
      "execution_count": null,
      "metadata": {
        "id": "O1k2LTh9fJq5",
        "outputId": "61f95c7b-69fb-45a8-b389-09556e926f1b"
      },
      "outputs": [
        {
          "name": "stdout",
          "output_type": "stream",
          "text": [
            "4999999.5\n",
            "CPU times: total: 562 ms\n",
            "Wall time: 719 ms\n"
          ]
        }
      ],
      "source": [
        "%%time\n",
        "def py_mean(n):\n",
        "    a = list(range(n))\n",
        "    print(sum(a)/n)\n",
        "py_mean(10**7)"
      ]
    },
    {
      "cell_type": "code",
      "execution_count": null,
      "metadata": {
        "id": "0y0FEG9UP20G",
        "outputId": "ebf3c915-a274-4be6-c5ce-237b59b34e64"
      },
      "outputs": [
        {
          "name": "stdout",
          "output_type": "stream",
          "text": [
            "4999999.5\n",
            "CPU times: total: 0 ns\n",
            "Wall time: 29.9 ms\n"
          ]
        }
      ],
      "source": [
        "%%time\n",
        "def np_mean(n):\n",
        "    a = np.arange(n)\n",
        "    print(np.mean(a))\n",
        "np_mean(10**7)"
      ]
    },
    {
      "cell_type": "markdown",
      "metadata": {
        "id": "jjFV6h7mpjFX"
      },
      "source": [
        "**Ваш вывод**\n",
        "С встроенными функциями Pytron CPU times: total: 562 ms Wall time: 719 ms\n",
        "c NumPy CPU times: total: 0 ns\n",
        "Wall time: 29.9 ms, что в десятки раз меньше, результат один и тот же\n"
      ]
    },
    {
      "cell_type": "markdown",
      "metadata": {
        "id": "oKNt01d0eGjv"
      },
      "source": [
        "## Задача 17"
      ]
    },
    {
      "cell_type": "markdown",
      "metadata": {
        "id": "1gpYauqG7_8O"
      },
      "source": [
        "Пусть мы имеем 2 массива (заданы ниже в коде). Требуется создать массив, который содержит в себе `True` на соответствующей позиции, если элемент с четным индексом 1-го массива больше соответствующего элемента 2-го и `True`, если нечетный (по индексу) элемент 2-го больше элемента 1-го. В противном случае `False`.\n",
        "\n",
        "Реализовать задачу с помощью numpy.\n",
        "\n",
        "Пример массивов и результата:\n",
        "\n",
        "```\n",
        "a = [7, 3, 5, 9, 2, 5, 4, 8, 9, 0]\n",
        "b = [2, 8, 6, 7, 1, 3, 2, 9, 5, 1]\n",
        "res = [ True, True, False, False, True, False, True, True, True, True]\n",
        "```\n",
        "\n",
        "Вы можете сделать задачу с помощью слайсинга или комбинации функций `np.arange` и `np.where`."
      ]
    },
    {
      "cell_type": "code",
      "execution_count": null,
      "metadata": {
        "id": "sTb3Ht9aeN6U",
        "outputId": "b6f43674-4560-42d5-b59d-ec9742d09890",
        "colab": {
          "base_uri": "https://localhost:8080/"
        }
      },
      "outputs": [
        {
          "output_type": "stream",
          "name": "stdout",
          "text": [
            "[1 9 5 5 0 3 5 0 5 4]\n",
            "[5 0 1 0 0 5 5 2 9 5]\n"
          ]
        }
      ],
      "source": [
        "a = np.random.randint(0, 10, 10)\n",
        "b = np.random.randint(0, 10, 10)\n",
        "print(a)\n",
        "print(b)"
      ]
    },
    {
      "cell_type": "code",
      "execution_count": null,
      "metadata": {
        "id": "y3KF6ELw6IRj",
        "outputId": "d50285b1-7a5c-4294-8b6f-5e6923f3c64b",
        "colab": {
          "base_uri": "https://localhost:8080/"
        }
      },
      "outputs": [
        {
          "output_type": "stream",
          "name": "stdout",
          "text": [
            "[False False  True False False  True False  True False  True]\n"
          ]
        }
      ],
      "source": [
        "c = a>b\n",
        "c[1::2] = ~c[1::2]\n",
        "d = a<b\n",
        "d[::2] = ~d[::2]\n",
        "\n",
        "print(c&d)\n"
      ]
    },
    {
      "cell_type": "markdown",
      "metadata": {
        "id": "UeJ5Ogg_eOVZ"
      },
      "source": [
        "## Задача 18"
      ]
    },
    {
      "cell_type": "markdown",
      "metadata": {
        "id": "0feXiyl18KCm"
      },
      "source": [
        "Найдите общие элементы двух numpy массивов (воспользуйтесь готовой функцией)."
      ]
    },
    {
      "cell_type": "code",
      "execution_count": null,
      "metadata": {
        "id": "J7azboiPeTt4"
      },
      "outputs": [],
      "source": [
        "arr1 = np.random.randint(0, 10, 10)\n",
        "arr2 = np.random.randint(0, 10, 10)"
      ]
    },
    {
      "cell_type": "code",
      "execution_count": null,
      "metadata": {
        "id": "zmFtUrav8MwE",
        "outputId": "b8b54d6d-4f9c-4a7b-d737-337e5ac95796"
      },
      "outputs": [
        {
          "name": "stdout",
          "output_type": "stream",
          "text": [
            "[1 6 6 7 3 9 0 7 7 9]\n",
            "[0 2 2 0 5 8 0 5 9 3]\n",
            "[0 3 9]\n"
          ]
        }
      ],
      "source": [
        "print(arr1)\n",
        "print(arr2)\n",
        "arr3 = np.intersect1d(arr1, arr2)\n",
        "print(arr3)"
      ]
    },
    {
      "cell_type": "markdown",
      "metadata": {
        "id": "iy8oPUa7ebvV"
      },
      "source": [
        "## Задача 19"
      ]
    },
    {
      "cell_type": "markdown",
      "metadata": {
        "id": "CP639-l58QFH"
      },
      "source": [
        "Создайте массив размера 10 со значениями от 0 до 1 (интервал между значениями равномерный), не включая концы.\n",
        "\n",
        "*Примечание:* см. `np.linspace` + слайсинг"
      ]
    },
    {
      "cell_type": "code",
      "execution_count": null,
      "metadata": {
        "id": "MCEXaem0fZym",
        "outputId": "4c682f54-6ddc-45d3-8428-902ac3dcd14b",
        "colab": {
          "base_uri": "https://localhost:8080/"
        }
      },
      "outputs": [
        {
          "output_type": "stream",
          "name": "stdout",
          "text": [
            "[0.09090909 0.18181818 0.27272727 0.36363636 0.45454545 0.54545455\n",
            " 0.63636364 0.72727273 0.81818182 0.90909091]\n"
          ]
        }
      ],
      "source": [
        "m = np.linspace(0,1,12)\n",
        "print(m[1:11])"
      ]
    },
    {
      "cell_type": "markdown",
      "metadata": {
        "id": "gnrh4ss9elZc"
      },
      "source": [
        "## Задача 20"
      ]
    },
    {
      "cell_type": "markdown",
      "metadata": {
        "id": "nbX3f0G-8Wt9"
      },
      "source": [
        "Создайте случайный вектор размера 10, и замените в нем максимальное значение на 0."
      ]
    },
    {
      "cell_type": "code",
      "execution_count": null,
      "metadata": {
        "id": "bqt33AZjfdl5",
        "outputId": "bacf91cb-1dd8-4c88-df6c-964cf9a55271"
      },
      "outputs": [
        {
          "name": "stdout",
          "output_type": "stream",
          "text": [
            "[0.29383156 0.65572674 0.80356835 0.3512135  0.09344038 0.81331608\n",
            " 0.78486672 0.39341911 0.86447919 0.38403077]\n",
            "[0.29383156 0.65572674 0.80356835 0.3512135  0.09344038 0.81331608\n",
            " 0.78486672 0.39341911 0.         0.38403077]\n"
          ]
        }
      ],
      "source": [
        "v = np.random.rand(10)\n",
        "print(v)\n",
        "vmax = v.max()\n",
        "a = np.argsort(v)\n",
        "c = a[9]\n",
        "v[c] = 0\n",
        "print(v)"
      ]
    },
    {
      "cell_type": "markdown",
      "metadata": {
        "id": "Ce8dqq1CXy3p"
      },
      "source": [
        "# Дополнительные материалы"
      ]
    },
    {
      "cell_type": "markdown",
      "metadata": {
        "id": "vadNm9DX8bQM"
      },
      "source": [
        "Для самых любознательных и тех, кто хочет еще порешать задачи, есть сборник \"100 заданий по Numpy\": https://www.machinelearningplus.com/python/101-numpy-exercises-python/\n",
        "\n",
        "Для тех, кому нужно руководство по матричным операциям в Numpy: https://www.programiz.com/python-programming/matrix"
      ]
    }
  ],
  "metadata": {
    "colab": {
      "provenance": []
    },
    "kernelspec": {
      "display_name": "Python 3 (ipykernel)",
      "language": "python",
      "name": "python3"
    },
    "language_info": {
      "codemirror_mode": {
        "name": "ipython",
        "version": 3
      },
      "file_extension": ".py",
      "mimetype": "text/x-python",
      "name": "python",
      "nbconvert_exporter": "python",
      "pygments_lexer": "ipython3",
      "version": "3.11.4"
    }
  },
  "nbformat": 4,
  "nbformat_minor": 0
}
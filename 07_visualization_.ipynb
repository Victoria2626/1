{
  "cells": [
    {
      "cell_type": "markdown",
      "metadata": {
        "id": "B7TpktH--KyR"
      },
      "source": [
        "# Домашнее задание 7. Визуализация данных"
      ]
    },
    {
      "cell_type": "markdown",
      "metadata": {
        "id": "lAwiybQ1dKsp"
      },
      "source": [
        "Вся работа состоит из трех больших блоков:\n",
        "\n",
        "- Базовые операции с датафреймами\n",
        "- Вычисление новых признаков и группировка данных\n",
        "- Визуализация данных"
      ]
    },
    {
      "cell_type": "markdown",
      "metadata": {
        "id": "7ZQsh6Sicp28"
      },
      "source": [
        "**Авторские подсказки**\n",
        "\n",
        "Во многих заданиях вам даны авторские подсказки - результат выполнения авторского кода для решения этой задачи. Они вам даны просто для понимания, в правильном ли направлении вы идете. Формат вывода вашего кода не обязательно должен совпадать с форматом в подсказках. Ячейки с ответом изменять не рекомендуется - проводите эксперименты в новых.\n"
      ]
    },
    {
      "cell_type": "markdown",
      "metadata": {
        "id": "C8oqsuokdKsw"
      },
      "source": [
        "# Описание задачи"
      ]
    },
    {
      "cell_type": "markdown",
      "metadata": {
        "id": "S2bpR0JFdKsw"
      },
      "source": [
        "**Задача кредитного скоринга** - одна из наиболее популярных областей в банковской индустрии, где применяется анализ данных"
      ]
    },
    {
      "cell_type": "markdown",
      "metadata": {
        "id": "tzBEfSvcdBLb"
      },
      "source": [
        "Признаки клиентов банка:\n",
        "\n",
        "- ```age``` - возраст (вещественный)\n",
        "- ```MonthlyIncome``` - месячный доход (вещественный)\n",
        "- ```DebtRatio``` - Debt-to-income Ratio (вещественный)\n",
        "- ```NumberOfOpenCreditLinesAndLoans``` - число заемов и кредитных линий\n",
        "- ```NumberRealEstateLoansOrLines``` - число ипотек и заемов, связанных с недвижимостью (натуральное число)\n",
        "- ```NumberOfDependents``` - число членов семьи, которых содержит клиент, исключая самого клиента (натуральное число)\n",
        "- ```defaulted``` - выплачен или не выплачен в конечном итоге кредит заемщиком\n",
        "\n",
        "В этой работе мы будем исследовать данные о заемщиках и научимся отвечать на вопросы о предоставленных нам данных."
      ]
    },
    {
      "cell_type": "markdown",
      "metadata": {
        "id": "AOZIK42cdKsx"
      },
      "source": [
        "# Базовые операции с датафреймами"
      ]
    },
    {
      "cell_type": "markdown",
      "metadata": {
        "id": "XVdO6j3m8zW7"
      },
      "source": []
    },
    {
      "cell_type": "markdown",
      "metadata": {
        "id": "mTo-0lPcdKsy"
      },
      "source": [
        "## Задача 1"
      ]
    },
    {
      "cell_type": "markdown",
      "metadata": {
        "id": "3LVFD2v1dKYC"
      },
      "source": [
        "Скачайте набор данных:"
      ]
    },
    {
      "cell_type": "code",
      "execution_count": null,
      "metadata": {
        "colab": {
          "base_uri": "https://localhost:8080/"
        },
        "id": "-UnkK0S5j5DE",
        "outputId": "2d538578-93f0-4502-a01e-6f1c84cdec7f"
      },
      "outputs": [
        {
          "name": "stderr",
          "output_type": "stream",
          "text": [
            "\"gdown\" не является внутренней или внешней\n",
            "командой, исполняемой программой или пакетным файлом.\n"
          ]
        }
      ],
      "source": [
        "!gdown 1Y327Wvlw1GVY1SSTJ4g6DuTujCFc5TsH"
      ]
    },
    {
      "cell_type": "markdown",
      "metadata": {
        "id": "Q0B5b3KEdKsy"
      },
      "source": [
        "Считайте файл ```credit_data.csv``` в переменную ```df```:"
      ]
    },
    {
      "cell_type": "code",
      "execution_count": null,
      "metadata": {
        "id": "HbGK5vY1dKsz"
      },
      "outputs": [],
      "source": [
        "import pandas as pd"
      ]
    },
    {
      "cell_type": "code",
      "execution_count": null,
      "metadata": {
        "id": "9_C1hDfQdKs1",
        "outputId": "fb792784-879b-4c81-9905-febc65e06f90"
      },
      "outputs": [
        {
          "data": {
            "text/html": [
              "<div>\n",
              "<style scoped>\n",
              "    .dataframe tbody tr th:only-of-type {\n",
              "        vertical-align: middle;\n",
              "    }\n",
              "\n",
              "    .dataframe tbody tr th {\n",
              "        vertical-align: top;\n",
              "    }\n",
              "\n",
              "    .dataframe thead th {\n",
              "        text-align: right;\n",
              "    }\n",
              "</style>\n",
              "<table border=\"1\" class=\"dataframe\">\n",
              "  <thead>\n",
              "    <tr style=\"text-align: right;\">\n",
              "      <th></th>\n",
              "      <th>defaulted</th>\n",
              "      <th>age</th>\n",
              "      <th>DebtRatio</th>\n",
              "      <th>MonthlyIncome</th>\n",
              "      <th>NumberOfOpenCreditLinesAndLoans</th>\n",
              "      <th>NumberRealEstateLoansOrLines</th>\n",
              "      <th>NumberOfDependents</th>\n",
              "    </tr>\n",
              "  </thead>\n",
              "  <tbody>\n",
              "    <tr>\n",
              "      <th>0</th>\n",
              "      <td>1</td>\n",
              "      <td>45</td>\n",
              "      <td>0.802982</td>\n",
              "      <td>9120.0</td>\n",
              "      <td>13</td>\n",
              "      <td>6</td>\n",
              "      <td>2.0</td>\n",
              "    </tr>\n",
              "    <tr>\n",
              "      <th>1</th>\n",
              "      <td>0</td>\n",
              "      <td>40</td>\n",
              "      <td>0.121876</td>\n",
              "      <td>2600.0</td>\n",
              "      <td>4</td>\n",
              "      <td>0</td>\n",
              "      <td>1.0</td>\n",
              "    </tr>\n",
              "    <tr>\n",
              "      <th>2</th>\n",
              "      <td>0</td>\n",
              "      <td>38</td>\n",
              "      <td>0.085113</td>\n",
              "      <td>3042.0</td>\n",
              "      <td>2</td>\n",
              "      <td>0</td>\n",
              "      <td>0.0</td>\n",
              "    </tr>\n",
              "    <tr>\n",
              "      <th>3</th>\n",
              "      <td>0</td>\n",
              "      <td>30</td>\n",
              "      <td>0.036050</td>\n",
              "      <td>3300.0</td>\n",
              "      <td>5</td>\n",
              "      <td>0</td>\n",
              "      <td>0.0</td>\n",
              "    </tr>\n",
              "    <tr>\n",
              "      <th>4</th>\n",
              "      <td>0</td>\n",
              "      <td>49</td>\n",
              "      <td>0.024926</td>\n",
              "      <td>63588.0</td>\n",
              "      <td>7</td>\n",
              "      <td>1</td>\n",
              "      <td>0.0</td>\n",
              "    </tr>\n",
              "    <tr>\n",
              "      <th>...</th>\n",
              "      <td>...</td>\n",
              "      <td>...</td>\n",
              "      <td>...</td>\n",
              "      <td>...</td>\n",
              "      <td>...</td>\n",
              "      <td>...</td>\n",
              "      <td>...</td>\n",
              "    </tr>\n",
              "    <tr>\n",
              "      <th>149995</th>\n",
              "      <td>0</td>\n",
              "      <td>74</td>\n",
              "      <td>0.225131</td>\n",
              "      <td>2100.0</td>\n",
              "      <td>4</td>\n",
              "      <td>1</td>\n",
              "      <td>0.0</td>\n",
              "    </tr>\n",
              "    <tr>\n",
              "      <th>149996</th>\n",
              "      <td>0</td>\n",
              "      <td>44</td>\n",
              "      <td>0.716562</td>\n",
              "      <td>5584.0</td>\n",
              "      <td>4</td>\n",
              "      <td>1</td>\n",
              "      <td>2.0</td>\n",
              "    </tr>\n",
              "    <tr>\n",
              "      <th>149997</th>\n",
              "      <td>0</td>\n",
              "      <td>58</td>\n",
              "      <td>3870.000000</td>\n",
              "      <td>NaN</td>\n",
              "      <td>18</td>\n",
              "      <td>1</td>\n",
              "      <td>0.0</td>\n",
              "    </tr>\n",
              "    <tr>\n",
              "      <th>149998</th>\n",
              "      <td>0</td>\n",
              "      <td>30</td>\n",
              "      <td>0.000000</td>\n",
              "      <td>5716.0</td>\n",
              "      <td>4</td>\n",
              "      <td>0</td>\n",
              "      <td>0.0</td>\n",
              "    </tr>\n",
              "    <tr>\n",
              "      <th>149999</th>\n",
              "      <td>0</td>\n",
              "      <td>64</td>\n",
              "      <td>0.249908</td>\n",
              "      <td>8158.0</td>\n",
              "      <td>8</td>\n",
              "      <td>2</td>\n",
              "      <td>0.0</td>\n",
              "    </tr>\n",
              "  </tbody>\n",
              "</table>\n",
              "<p>150000 rows × 7 columns</p>\n",
              "</div>"
            ],
            "text/plain": [
              "        defaulted  age    DebtRatio  MonthlyIncome  \\\n",
              "0               1   45     0.802982         9120.0   \n",
              "1               0   40     0.121876         2600.0   \n",
              "2               0   38     0.085113         3042.0   \n",
              "3               0   30     0.036050         3300.0   \n",
              "4               0   49     0.024926        63588.0   \n",
              "...           ...  ...          ...            ...   \n",
              "149995          0   74     0.225131         2100.0   \n",
              "149996          0   44     0.716562         5584.0   \n",
              "149997          0   58  3870.000000            NaN   \n",
              "149998          0   30     0.000000         5716.0   \n",
              "149999          0   64     0.249908         8158.0   \n",
              "\n",
              "        NumberOfOpenCreditLinesAndLoans  NumberRealEstateLoansOrLines  \\\n",
              "0                                    13                             6   \n",
              "1                                     4                             0   \n",
              "2                                     2                             0   \n",
              "3                                     5                             0   \n",
              "4                                     7                             1   \n",
              "...                                 ...                           ...   \n",
              "149995                                4                             1   \n",
              "149996                                4                             1   \n",
              "149997                               18                             1   \n",
              "149998                                4                             0   \n",
              "149999                                8                             2   \n",
              "\n",
              "        NumberOfDependents  \n",
              "0                      2.0  \n",
              "1                      1.0  \n",
              "2                      0.0  \n",
              "3                      0.0  \n",
              "4                      0.0  \n",
              "...                    ...  \n",
              "149995                 0.0  \n",
              "149996                 2.0  \n",
              "149997                 0.0  \n",
              "149998                 0.0  \n",
              "149999                 0.0  \n",
              "\n",
              "[150000 rows x 7 columns]"
            ]
          },
          "execution_count": 2,
          "metadata": {},
          "output_type": "execute_result"
        }
      ],
      "source": [
        "df = pd.read_csv('credit_data.csv')\n",
        "df"
      ]
    },
    {
      "cell_type": "markdown",
      "metadata": {
        "id": "6-O-oItxdKs1"
      },
      "source": [
        "Определите размер таблицы:"
      ]
    },
    {
      "cell_type": "code",
      "execution_count": null,
      "metadata": {
        "id": "H5ifn6UwdKs2",
        "outputId": "68d26d4e-9523-4f3b-9192-07a0c15d51d7"
      },
      "outputs": [
        {
          "data": {
            "text/plain": [
              "(150000, 7)"
            ]
          },
          "execution_count": 3,
          "metadata": {},
          "output_type": "execute_result"
        }
      ],
      "source": [
        "df.shape"
      ]
    },
    {
      "cell_type": "markdown",
      "metadata": {
        "id": "gbZCbMVKX_PE"
      },
      "source": [
        "```(150000, 7)```"
      ]
    },
    {
      "cell_type": "markdown",
      "metadata": {
        "id": "OlUIqfSTdKs3"
      },
      "source": [
        "Посмотрите первые пять строк:"
      ]
    },
    {
      "cell_type": "code",
      "execution_count": null,
      "metadata": {
        "id": "wWJXhdxcdKs4",
        "outputId": "e34d8ee5-c5ee-421a-ce8f-0d2ac65e4a8a"
      },
      "outputs": [
        {
          "data": {
            "text/html": [
              "<div>\n",
              "<style scoped>\n",
              "    .dataframe tbody tr th:only-of-type {\n",
              "        vertical-align: middle;\n",
              "    }\n",
              "\n",
              "    .dataframe tbody tr th {\n",
              "        vertical-align: top;\n",
              "    }\n",
              "\n",
              "    .dataframe thead th {\n",
              "        text-align: right;\n",
              "    }\n",
              "</style>\n",
              "<table border=\"1\" class=\"dataframe\">\n",
              "  <thead>\n",
              "    <tr style=\"text-align: right;\">\n",
              "      <th></th>\n",
              "      <th>defaulted</th>\n",
              "      <th>age</th>\n",
              "      <th>DebtRatio</th>\n",
              "      <th>MonthlyIncome</th>\n",
              "      <th>NumberOfOpenCreditLinesAndLoans</th>\n",
              "      <th>NumberRealEstateLoansOrLines</th>\n",
              "      <th>NumberOfDependents</th>\n",
              "    </tr>\n",
              "  </thead>\n",
              "  <tbody>\n",
              "    <tr>\n",
              "      <th>0</th>\n",
              "      <td>1</td>\n",
              "      <td>45</td>\n",
              "      <td>0.802982</td>\n",
              "      <td>9120.0</td>\n",
              "      <td>13</td>\n",
              "      <td>6</td>\n",
              "      <td>2.0</td>\n",
              "    </tr>\n",
              "    <tr>\n",
              "      <th>1</th>\n",
              "      <td>0</td>\n",
              "      <td>40</td>\n",
              "      <td>0.121876</td>\n",
              "      <td>2600.0</td>\n",
              "      <td>4</td>\n",
              "      <td>0</td>\n",
              "      <td>1.0</td>\n",
              "    </tr>\n",
              "    <tr>\n",
              "      <th>2</th>\n",
              "      <td>0</td>\n",
              "      <td>38</td>\n",
              "      <td>0.085113</td>\n",
              "      <td>3042.0</td>\n",
              "      <td>2</td>\n",
              "      <td>0</td>\n",
              "      <td>0.0</td>\n",
              "    </tr>\n",
              "    <tr>\n",
              "      <th>3</th>\n",
              "      <td>0</td>\n",
              "      <td>30</td>\n",
              "      <td>0.036050</td>\n",
              "      <td>3300.0</td>\n",
              "      <td>5</td>\n",
              "      <td>0</td>\n",
              "      <td>0.0</td>\n",
              "    </tr>\n",
              "    <tr>\n",
              "      <th>4</th>\n",
              "      <td>0</td>\n",
              "      <td>49</td>\n",
              "      <td>0.024926</td>\n",
              "      <td>63588.0</td>\n",
              "      <td>7</td>\n",
              "      <td>1</td>\n",
              "      <td>0.0</td>\n",
              "    </tr>\n",
              "  </tbody>\n",
              "</table>\n",
              "</div>"
            ],
            "text/plain": [
              "   defaulted  age  DebtRatio  MonthlyIncome  NumberOfOpenCreditLinesAndLoans  \\\n",
              "0          1   45   0.802982         9120.0                               13   \n",
              "1          0   40   0.121876         2600.0                                4   \n",
              "2          0   38   0.085113         3042.0                                2   \n",
              "3          0   30   0.036050         3300.0                                5   \n",
              "4          0   49   0.024926        63588.0                                7   \n",
              "\n",
              "   NumberRealEstateLoansOrLines  NumberOfDependents  \n",
              "0                             6                 2.0  \n",
              "1                             0                 1.0  \n",
              "2                             0                 0.0  \n",
              "3                             0                 0.0  \n",
              "4                             1                 0.0  "
            ]
          },
          "execution_count": 4,
          "metadata": {},
          "output_type": "execute_result"
        }
      ],
      "source": [
        "df.head(5)"
      ]
    },
    {
      "cell_type": "markdown",
      "metadata": {
        "id": "Cw1vWxPkdKs5"
      },
      "source": [
        "Выведите список названий столбцов:"
      ]
    },
    {
      "cell_type": "code",
      "execution_count": null,
      "metadata": {
        "id": "dCqEW6y2dKs5",
        "outputId": "07a44b1e-8bd0-4c49-9727-97e33fb57ee1"
      },
      "outputs": [
        {
          "data": {
            "text/plain": [
              "Index(['defaulted', 'age', 'DebtRatio', 'MonthlyIncome',\n",
              "       'NumberOfOpenCreditLinesAndLoans', 'NumberRealEstateLoansOrLines',\n",
              "       'NumberOfDependents'],\n",
              "      dtype='object')"
            ]
          },
          "execution_count": 5,
          "metadata": {},
          "output_type": "execute_result"
        }
      ],
      "source": [
        "df.columns"
      ]
    },
    {
      "cell_type": "markdown",
      "metadata": {
        "id": "YWfEHVwQYBAB"
      },
      "source": [
        "```\n",
        "['defaulted',\n",
        " 'age',\n",
        " 'DebtRatio',\n",
        " 'MonthlyIncome',\n",
        " 'NumberOfOpenCreditLinesAndLoans',\n",
        " 'NumberRealEstateLoansOrLines',\n",
        " 'NumberOfDependents']\n",
        " ```"
      ]
    },
    {
      "cell_type": "markdown",
      "metadata": {
        "id": "WpSLgazLdKs6"
      },
      "source": [
        "## Задача 2"
      ]
    },
    {
      "cell_type": "markdown",
      "metadata": {
        "id": "ULvNfAxtdKs6"
      },
      "source": [
        "Определите число пропусков в каждом столбце (могут пригодиться методы ```isnull``` и ```sum```):"
      ]
    },
    {
      "cell_type": "code",
      "execution_count": null,
      "metadata": {
        "id": "KnKRkbuXdKs6",
        "outputId": "964e0fdf-72a4-4ad3-b39d-b7de4b9d30ee"
      },
      "outputs": [
        {
          "data": {
            "text/plain": [
              "defaulted                              0\n",
              "age                                    0\n",
              "DebtRatio                              0\n",
              "MonthlyIncome                      29731\n",
              "NumberOfOpenCreditLinesAndLoans        0\n",
              "NumberRealEstateLoansOrLines           0\n",
              "NumberOfDependents                  3924\n",
              "dtype: int64"
            ]
          },
          "execution_count": 6,
          "metadata": {},
          "output_type": "execute_result"
        }
      ],
      "source": [
        "df.isnull().sum()"
      ]
    },
    {
      "cell_type": "markdown",
      "metadata": {
        "id": "HPcInbD3YHkB"
      },
      "source": [
        "\n",
        "```\n",
        "defaulted                              0\n",
        "age                                    0\n",
        "DebtRatio                              0\n",
        "MonthlyIncome                      29731\n",
        "NumberOfOpenCreditLinesAndLoans        0\n",
        "NumberRealEstateLoansOrLines           0\n",
        "NumberOfDependents                  3924\n",
        "dtype: int64\n",
        "```\n",
        "\n"
      ]
    },
    {
      "cell_type": "markdown",
      "metadata": {
        "id": "-6nWWy0vdKs7"
      },
      "source": [
        "Определите долю пропусков в каждом столбце (могут пригодиться методы ```isnull``` и ```mean```):"
      ]
    },
    {
      "cell_type": "code",
      "execution_count": null,
      "metadata": {
        "id": "GLiQIrvwdKs7",
        "outputId": "d019ad72-2f71-4b37-c683-5ed47a1c62fb"
      },
      "outputs": [
        {
          "data": {
            "text/plain": [
              "defaulted                          0.000000\n",
              "age                                0.000000\n",
              "DebtRatio                          0.000000\n",
              "MonthlyIncome                      0.198207\n",
              "NumberOfOpenCreditLinesAndLoans    0.000000\n",
              "NumberRealEstateLoansOrLines       0.000000\n",
              "NumberOfDependents                 0.026160\n",
              "dtype: float64"
            ]
          },
          "execution_count": 7,
          "metadata": {},
          "output_type": "execute_result"
        }
      ],
      "source": [
        "df.isnull().mean()"
      ]
    },
    {
      "cell_type": "markdown",
      "metadata": {
        "id": "lxiF4WbjYRi-"
      },
      "source": [
        "```\n",
        "defaulted                          0.000000\n",
        "age                                0.000000\n",
        "DebtRatio                          0.000000\n",
        "MonthlyIncome                      0.198207\n",
        "NumberOfOpenCreditLinesAndLoans    0.000000\n",
        "NumberRealEstateLoansOrLines       0.000000\n",
        "NumberOfDependents                 0.026160\n",
        "dtype: float64\n",
        "```"
      ]
    },
    {
      "cell_type": "markdown",
      "metadata": {
        "id": "vxVMh9UDdKs7"
      },
      "source": [
        "## Задача 3"
      ]
    },
    {
      "cell_type": "markdown",
      "metadata": {
        "id": "fKEjMQl0eIZz"
      },
      "source": [
        "Определите долю заемщиков, которые не выплатили кредит (колонка ```defaulted```):"
      ]
    },
    {
      "cell_type": "code",
      "execution_count": null,
      "metadata": {
        "id": "s5IS56FNdKs8",
        "outputId": "0fe28551-8b3c-4890-f989-dad2ee4faddf"
      },
      "outputs": [
        {
          "data": {
            "text/plain": [
              "0.06684"
            ]
          },
          "execution_count": 8,
          "metadata": {},
          "output_type": "execute_result"
        }
      ],
      "source": [
        "df['defaulted'].mean()\n"
      ]
    },
    {
      "cell_type": "markdown",
      "metadata": {
        "id": "K-iBtSBoYdBX"
      },
      "source": [
        "```0.06684```"
      ]
    },
    {
      "cell_type": "markdown",
      "metadata": {
        "id": "2euhSaR8dKs8"
      },
      "source": [
        "## Задача 4"
      ]
    },
    {
      "cell_type": "markdown",
      "metadata": {
        "id": "LKABQ5PGeKfW"
      },
      "source": [
        "Определите количество заемщиков, у которых ежемесячный доход ```MonthlyIncome``` выше среднего:"
      ]
    },
    {
      "cell_type": "code",
      "execution_count": null,
      "metadata": {
        "id": "OrFyCw-NdKs8",
        "outputId": "7a494a02-537c-4d0a-a920-f05bf2c0ff22"
      },
      "outputs": [
        {
          "data": {
            "text/plain": [
              "44146"
            ]
          },
          "execution_count": 9,
          "metadata": {},
          "output_type": "execute_result"
        }
      ],
      "source": [
        "df.head(5)\n",
        "sredn = df['MonthlyIncome'].mean()\n",
        "sredn\n",
        "df[df['MonthlyIncome']>sredn].shape[0]"
      ]
    },
    {
      "cell_type": "markdown",
      "metadata": {
        "id": "O0KMIlICYt4r"
      },
      "source": [
        "```44146```"
      ]
    },
    {
      "cell_type": "markdown",
      "metadata": {
        "id": "FD9j5sQGdKs8"
      },
      "source": [
        "## Задача 5"
      ]
    },
    {
      "cell_type": "markdown",
      "metadata": {
        "id": "SGrDZ5XkeMU2"
      },
      "source": [
        "Вычислите медианный возраст заемщиков, которые не вернули кредит (```defaulted=1```):"
      ]
    },
    {
      "cell_type": "code",
      "execution_count": null,
      "metadata": {
        "id": "freki_-VdKs9",
        "outputId": "7b2095a0-0339-47c4-cd69-96597fdb5028"
      },
      "outputs": [
        {
          "data": {
            "text/plain": [
              "45.0"
            ]
          },
          "execution_count": 10,
          "metadata": {},
          "output_type": "execute_result"
        }
      ],
      "source": [
        "a=df[df['defaulted'] ==1]\n",
        "a\n",
        "a['age'].median()"
      ]
    },
    {
      "cell_type": "markdown",
      "metadata": {
        "id": "Xiwz_gfwY0m7"
      },
      "source": [
        "```45.0```"
      ]
    },
    {
      "cell_type": "markdown",
      "metadata": {
        "id": "Z2K1WOZ4dkls"
      },
      "source": [
        "Проверьте, больше ли он или меньше медианного возраста всех заемщиков:"
      ]
    },
    {
      "cell_type": "code",
      "execution_count": null,
      "metadata": {
        "id": "UYB4hW8kdKs9",
        "outputId": "b9dd6e91-39c7-4744-d460-08c94fbee2d1"
      },
      "outputs": [
        {
          "data": {
            "text/plain": [
              "52.0"
            ]
          },
          "execution_count": 11,
          "metadata": {},
          "output_type": "execute_result"
        }
      ],
      "source": [
        "df['age'].median()\n",
        "#медианный возраст заемщиков, которые не вернули кредит (defaulted=1)< медианного возраста всех заемщиков"
      ]
    },
    {
      "cell_type": "markdown",
      "metadata": {
        "id": "YsaEANcFdKs9"
      },
      "source": [
        "## Задача 6"
      ]
    },
    {
      "cell_type": "markdown",
      "metadata": {
        "id": "Rnc5xebMeORH"
      },
      "source": [
        "Вычислите сколько заемщиков старше 40 лет имеют ежемесячный доход больше среднего ежемесячного дохода по всей выборке:"
      ]
    },
    {
      "cell_type": "code",
      "execution_count": null,
      "metadata": {
        "id": "NeQv8cFDdKs-",
        "outputId": "a304ffa0-0363-4451-99f5-ea59e986fe46"
      },
      "outputs": [
        {
          "data": {
            "text/plain": [
              "37629"
            ]
          },
          "execution_count": 12,
          "metadata": {},
          "output_type": "execute_result"
        }
      ],
      "source": [
        "sredn = df['MonthlyIncome'].mean()\n",
        "starsh = df[df['age']>40]\n",
        "starsh[starsh['MonthlyIncome']>sredn].shape[0]"
      ]
    },
    {
      "cell_type": "markdown",
      "metadata": {
        "id": "Vts7_0FTY2xL"
      },
      "source": [
        "```37629```"
      ]
    },
    {
      "cell_type": "markdown",
      "metadata": {
        "id": "XwLzrBY3dKs-"
      },
      "source": [
        "# Вычисление новых признаков и группировка данных"
      ]
    },
    {
      "cell_type": "markdown",
      "metadata": {
        "id": "Ww14rrZBdKs-"
      },
      "source": [
        "## Задача 7"
      ]
    },
    {
      "cell_type": "markdown",
      "metadata": {
        "id": "pO52qJXgeR0O"
      },
      "source": [
        "Вычислите новый признак ```age_group``` на основе признака ```age```, который разбивает заемщиков на 3 возрастные группы:\n",
        "- до 30 лет включительно (операция ```<=```) - **группа 1**\n",
        "- от 30 лет не включительно и до 50 лет включительно - **группа 2**\n",
        "- строго старше 50 лет - **группа 3**\n",
        "\n",
        "Для этого заведите отдельную функцию `calculate_age_group` и передайте ее в метод `apply`, который позовете от столбца `age`:"
      ]
    },
    {
      "cell_type": "code",
      "execution_count": null,
      "metadata": {
        "id": "vwJeahmkdKs_",
        "outputId": "a185b441-a181-4fbd-d9f3-23b11bfa5e04"
      },
      "outputs": [
        {
          "data": {
            "text/html": [
              "<div>\n",
              "<style scoped>\n",
              "    .dataframe tbody tr th:only-of-type {\n",
              "        vertical-align: middle;\n",
              "    }\n",
              "\n",
              "    .dataframe tbody tr th {\n",
              "        vertical-align: top;\n",
              "    }\n",
              "\n",
              "    .dataframe thead th {\n",
              "        text-align: right;\n",
              "    }\n",
              "</style>\n",
              "<table border=\"1\" class=\"dataframe\">\n",
              "  <thead>\n",
              "    <tr style=\"text-align: right;\">\n",
              "      <th></th>\n",
              "      <th>defaulted</th>\n",
              "      <th>age</th>\n",
              "      <th>DebtRatio</th>\n",
              "      <th>MonthlyIncome</th>\n",
              "      <th>NumberOfOpenCreditLinesAndLoans</th>\n",
              "      <th>NumberRealEstateLoansOrLines</th>\n",
              "      <th>NumberOfDependents</th>\n",
              "      <th>age_group</th>\n",
              "    </tr>\n",
              "  </thead>\n",
              "  <tbody>\n",
              "    <tr>\n",
              "      <th>0</th>\n",
              "      <td>1</td>\n",
              "      <td>45</td>\n",
              "      <td>0.802982</td>\n",
              "      <td>9120.0</td>\n",
              "      <td>13</td>\n",
              "      <td>6</td>\n",
              "      <td>2.0</td>\n",
              "      <td>2</td>\n",
              "    </tr>\n",
              "    <tr>\n",
              "      <th>1</th>\n",
              "      <td>0</td>\n",
              "      <td>40</td>\n",
              "      <td>0.121876</td>\n",
              "      <td>2600.0</td>\n",
              "      <td>4</td>\n",
              "      <td>0</td>\n",
              "      <td>1.0</td>\n",
              "      <td>2</td>\n",
              "    </tr>\n",
              "    <tr>\n",
              "      <th>2</th>\n",
              "      <td>0</td>\n",
              "      <td>38</td>\n",
              "      <td>0.085113</td>\n",
              "      <td>3042.0</td>\n",
              "      <td>2</td>\n",
              "      <td>0</td>\n",
              "      <td>0.0</td>\n",
              "      <td>2</td>\n",
              "    </tr>\n",
              "    <tr>\n",
              "      <th>3</th>\n",
              "      <td>0</td>\n",
              "      <td>30</td>\n",
              "      <td>0.036050</td>\n",
              "      <td>3300.0</td>\n",
              "      <td>5</td>\n",
              "      <td>0</td>\n",
              "      <td>0.0</td>\n",
              "      <td>1</td>\n",
              "    </tr>\n",
              "    <tr>\n",
              "      <th>4</th>\n",
              "      <td>0</td>\n",
              "      <td>49</td>\n",
              "      <td>0.024926</td>\n",
              "      <td>63588.0</td>\n",
              "      <td>7</td>\n",
              "      <td>1</td>\n",
              "      <td>0.0</td>\n",
              "      <td>2</td>\n",
              "    </tr>\n",
              "  </tbody>\n",
              "</table>\n",
              "</div>"
            ],
            "text/plain": [
              "   defaulted  age  DebtRatio  MonthlyIncome  NumberOfOpenCreditLinesAndLoans  \\\n",
              "0          1   45   0.802982         9120.0                               13   \n",
              "1          0   40   0.121876         2600.0                                4   \n",
              "2          0   38   0.085113         3042.0                                2   \n",
              "3          0   30   0.036050         3300.0                                5   \n",
              "4          0   49   0.024926        63588.0                                7   \n",
              "\n",
              "   NumberRealEstateLoansOrLines  NumberOfDependents  age_group  \n",
              "0                             6                 2.0          2  \n",
              "1                             0                 1.0          2  \n",
              "2                             0                 0.0          2  \n",
              "3                             0                 0.0          1  \n",
              "4                             1                 0.0          2  "
            ]
          },
          "execution_count": 13,
          "metadata": {},
          "output_type": "execute_result"
        }
      ],
      "source": [
        "def calculate_age_group(column):\n",
        "    if column <=30:\n",
        "        return 1\n",
        "    elif 30<column<=50:\n",
        "        return 2\n",
        "    else:\n",
        "        return 3\n",
        "\n",
        "df['age'].apply(calculate_age_group)\n",
        "df['age_group'] = df['age'].apply(calculate_age_group)\n",
        "df.head(5)"
      ]
    },
    {
      "cell_type": "markdown",
      "metadata": {
        "id": "UIe-sOOGdKs_"
      },
      "source": [
        "## Задача 8"
      ]
    },
    {
      "cell_type": "markdown",
      "metadata": {
        "id": "-SLWHLQAeVfl"
      },
      "source": [
        "Вычислите количество заемщиков в каждой группе нового вычисленного признака `age_group` с помощью метода `value_counts`:"
      ]
    },
    {
      "cell_type": "code",
      "execution_count": null,
      "metadata": {
        "id": "bqk4zcxzdKs_",
        "outputId": "dc23e19d-ea66-4ba0-a96d-9119be3e5efa"
      },
      "outputs": [
        {
          "data": {
            "text/plain": [
              "3    79866\n",
              "2    59376\n",
              "1    10758\n",
              "Name: age_group, dtype: int64"
            ]
          },
          "execution_count": 14,
          "metadata": {},
          "output_type": "execute_result"
        }
      ],
      "source": [
        "df['age_group'].value_counts()"
      ]
    },
    {
      "cell_type": "markdown",
      "metadata": {
        "id": "EYmnay8JY6TO"
      },
      "source": [
        "```\n",
        "3    79866\n",
        "2    59376\n",
        "1    10758\n",
        "Name: age_group, dtype: int64\n",
        "```"
      ]
    },
    {
      "cell_type": "markdown",
      "metadata": {
        "id": "dYIbwaKndKs_"
      },
      "source": [
        "## Задача 9"
      ]
    },
    {
      "cell_type": "markdown",
      "metadata": {
        "id": "0QdedBNVeX0o"
      },
      "source": [
        "Посчитайте долю заемщиков, которые не вернули кредит, в каждой из вычисленных возрастных групп (группировка по возрастной группе и применение метода `mean` к колонке `defaulted`):"
      ]
    },
    {
      "cell_type": "code",
      "execution_count": null,
      "metadata": {
        "id": "xGY7OunzWSy6",
        "outputId": "e579143d-e77f-4c4a-9bc7-e2484b87d362"
      },
      "outputs": [
        {
          "data": {
            "text/plain": [
              "0.11563487637107268"
            ]
          },
          "execution_count": 15,
          "metadata": {},
          "output_type": "execute_result"
        }
      ],
      "source": [
        "df.groupby('age_group')['age_group'].count()\n",
        "group1 = df[(df['age_group'] ==1) & (df['defaulted'] ==1)]\n",
        "group1\n",
        "group1 = df[df['age_group'] ==1]\n",
        "group1['defaulted'].mean()\n"
      ]
    },
    {
      "cell_type": "code",
      "execution_count": null,
      "metadata": {
        "id": "dRu-47_AcGPs",
        "outputId": "10e0d578-48da-4f39-ffe9-532c0e43973a"
      },
      "outputs": [
        {
          "data": {
            "text/plain": [
              "age_group\n",
              "1    0.115635\n",
              "2    0.088975\n",
              "3    0.043811\n",
              "Name: defaulted, dtype: float64"
            ]
          },
          "execution_count": 16,
          "metadata": {},
          "output_type": "execute_result"
        }
      ],
      "source": [
        "df.groupby('age_group')['defaulted'].mean()"
      ]
    },
    {
      "cell_type": "markdown",
      "metadata": {
        "id": "x-BCEZc7dKtA"
      },
      "source": [
        "## Задача 10"
      ]
    },
    {
      "cell_type": "markdown",
      "metadata": {
        "id": "17UyfgUOejKK"
      },
      "source": [
        "Визуализируйте полученные данные в виде гистограммы. Добавьте сетку на график, дайте графику название:"
      ]
    },
    {
      "cell_type": "code",
      "execution_count": null,
      "metadata": {
        "id": "Zjus1bJSdKtA"
      },
      "outputs": [],
      "source": [
        "# Импортируем модуль для визуализации данных\n",
        "from matplotlib import pyplot as plt\n",
        "import numpy as np"
      ]
    },
    {
      "cell_type": "code",
      "execution_count": null,
      "metadata": {
        "id": "bVAgF_mSLA8L",
        "outputId": "6b05bcb4-af1d-405c-cd59-59ed4c77693c"
      },
      "outputs": [
        {
          "data": {
            "text/plain": [
              "array([0.11563488, 0.08897534, 0.04381088])"
            ]
          },
          "execution_count": 18,
          "metadata": {},
          "output_type": "execute_result"
        }
      ],
      "source": [
        "np.array(df.groupby('age_group')['defaulted'].mean())"
      ]
    },
    {
      "cell_type": "code",
      "execution_count": null,
      "metadata": {
        "id": "_oyUdMNkLA8L",
        "outputId": "6cf4086f-d16c-4ad4-d9b1-3011ee24b9bb"
      },
      "outputs": [
        {
          "data": {
            "text/html": [
              "<div>\n",
              "<style scoped>\n",
              "    .dataframe tbody tr th:only-of-type {\n",
              "        vertical-align: middle;\n",
              "    }\n",
              "\n",
              "    .dataframe tbody tr th {\n",
              "        vertical-align: top;\n",
              "    }\n",
              "\n",
              "    .dataframe thead th {\n",
              "        text-align: right;\n",
              "    }\n",
              "</style>\n",
              "<table border=\"1\" class=\"dataframe\">\n",
              "  <thead>\n",
              "    <tr style=\"text-align: right;\">\n",
              "      <th></th>\n",
              "      <th>0</th>\n",
              "    </tr>\n",
              "  </thead>\n",
              "  <tbody>\n",
              "    <tr>\n",
              "      <th>1</th>\n",
              "      <td>0.115635</td>\n",
              "    </tr>\n",
              "    <tr>\n",
              "      <th>2</th>\n",
              "      <td>0.088975</td>\n",
              "    </tr>\n",
              "    <tr>\n",
              "      <th>3</th>\n",
              "      <td>0.043811</td>\n",
              "    </tr>\n",
              "  </tbody>\n",
              "</table>\n",
              "</div>"
            ],
            "text/plain": [
              "          0\n",
              "1  0.115635\n",
              "2  0.088975\n",
              "3  0.043811"
            ]
          },
          "execution_count": 19,
          "metadata": {},
          "output_type": "execute_result"
        }
      ],
      "source": [
        "uf = pd.DataFrame(data = [0.11563488, 0.08897534, 0.04381088],\n",
        "                 index = ['1','2','3'])\n",
        "uf"
      ]
    },
    {
      "cell_type": "code",
      "execution_count": null,
      "metadata": {
        "id": "4OBKTXGULA8M",
        "outputId": "7273cda7-003a-4a65-a2b6-c66ac75383ad"
      },
      "outputs": [
        {
          "data": {
            "image/png": "[encoded data removed]",
            "text/plain": [
              "<Figure size 1000x700 with 1 Axes>"
            ]
          },
          "metadata": {},
          "output_type": "display_data"
        }
      ],
      "source": [
        "df.groupby('age_group')['defaulted'].mean().plot(kind='bar',figsize=(10,7),color='c')\n",
        "\n",
        "plt.text(\n",
        "    0.035,\n",
        "    0.125,\n",
        "    'Доля заемщиков, которые не вернули кредит, в каждой из возрастных групп')\n",
        "plt.grid(linestyle='--', color='pink')\n",
        "plt.xticks(rotation = 360)\n",
        "plt.show()\n"
      ]
    },
    {
      "cell_type": "markdown",
      "metadata": {
        "id": "deEBZ0v7dKtB"
      },
      "source": [
        "## Задача 11"
      ]
    },
    {
      "cell_type": "markdown",
      "metadata": {
        "id": "Qtxk_V6Hem6q"
      },
      "source": [
        "Какие выводы вы можете сделать? С увеличением возраста заемщика риск невозврата кредита становится больше или меньше? Дайте ответ на вопрос в текстовой ячейке ниже:"
      ]
    },
    {
      "cell_type": "markdown",
      "metadata": {
        "id": "89NKup8voVna"
      },
      "source": [
        "**Ответ:**"
      ]
    },
    {
      "cell_type": "code",
      "execution_count": null,
      "metadata": {
        "id": "hEGx5NlWLA8N"
      },
      "outputs": [],
      "source": [
        "# С увеличением возраста риск невозврата кредита падает"
      ]
    },
    {
      "cell_type": "markdown",
      "metadata": {
        "id": "I89l2WAsdKtB"
      },
      "source": [
        "## Задача 12"
      ]
    },
    {
      "cell_type": "markdown",
      "metadata": {
        "id": "TaSzKeuSeuOd"
      },
      "source": [
        "Вычислите новый признак `alone_and_poor`, который равен `1` у заемщиков, которые не содержат никого, кроме себя (`NumberOfDependents == 0`) и у которых месячный доход (`MonthlyIncome`) меньше 10% квантили по этому признаку среди всех заемщиков. Иначе этот признак сделайте равным 0.\n",
        "\n",
        "Для этого напишите функцию `calculate_alone_and_poor`, в которой вы будете принимать строку, доставать нужные поля у этой строки, и проверять перечисленные выше условия.\n",
        "\n",
        "Заранее посчитайте значение 10% квантили по столбцу `MonthlyIncome`, и передайте это значение в функцию как аргумент по-умолчанию.\n",
        "\n",
        "Затем полученную функцию примените ко всему датафрейму с помощью метода `apply`. Не забудьте указать параметр `axis=1` в методе `apply` (применять переданную функцию ко строкам), иначе код упадет с ошибкой."
      ]
    },
    {
      "cell_type": "code",
      "execution_count": null,
      "metadata": {
        "id": "x4QpASAIdKtB",
        "outputId": "e3ea9153-f5dd-41ee-cdf7-2d9876c27d3e"
      },
      "outputs": [
        {
          "name": "stdout",
          "output_type": "stream",
          "text": [
            "квантиль =  2005.0\n"
          ]
        }
      ],
      "source": [
        "quantile_10 = df['MonthlyIncome'].quantile(0.1)\n",
        "print( \"квантиль = \", quantile_10)"
      ]
    },
    {
      "cell_type": "code",
      "execution_count": null,
      "metadata": {
        "id": "UKOL9z1sLA8N"
      },
      "outputs": [],
      "source": [
        "def calculate_alone_and_poor(row, quantile_10):\n",
        "    if row['NumberOfDependents'] == 0 and row['MonthlyIncome'] < quantile_10:\n",
        "        return 1\n",
        "    else:\n",
        "        return 0"
      ]
    },
    {
      "cell_type": "code",
      "execution_count": null,
      "metadata": {
        "id": "-gX1A2iRdKtB",
        "outputId": "ff51f1c3-7c4c-4744-f8e8-ec8b4ca2ab30"
      },
      "outputs": [
        {
          "name": "stdout",
          "output_type": "stream",
          "text": [
            "   defaulted  age  DebtRatio  MonthlyIncome  NumberOfOpenCreditLinesAndLoans  \\\n",
            "0          1   45   0.802982         9120.0                               13   \n",
            "1          0   40   0.121876         2600.0                                4   \n",
            "2          0   38   0.085113         3042.0                                2   \n",
            "3          0   30   0.036050         3300.0                                5   \n",
            "4          0   49   0.024926        63588.0                                7   \n",
            "\n",
            "   NumberRealEstateLoansOrLines  NumberOfDependents  age_group  alone_and_poor  \n",
            "0                             6                 2.0          2               0  \n",
            "1                             0                 1.0          2               0  \n",
            "2                             0                 0.0          2               0  \n",
            "3                             0                 0.0          1               0  \n",
            "4                             1                 0.0          2               0  \n"
          ]
        }
      ],
      "source": [
        "# Применяем функцию ко всему датафрейму\n",
        "df['alone_and_poor'] = df.apply(calculate_alone_and_poor, quantile_10=quantile_10, axis=1)\n",
        "\n",
        "print(df.head())"
      ]
    },
    {
      "cell_type": "markdown",
      "metadata": {
        "id": "x7P_z7KYdKtC"
      },
      "source": [
        "Сколько получилось людей с признаком ```alone_and_poor``` равным 1?"
      ]
    },
    {
      "cell_type": "code",
      "execution_count": null,
      "metadata": {
        "id": "OjhMTSrydKtC",
        "outputId": "6c30e433-9775-4c9f-d8b4-8675cc6775c7"
      },
      "outputs": [
        {
          "data": {
            "text/plain": [
              "8719"
            ]
          },
          "execution_count": 27,
          "metadata": {},
          "output_type": "execute_result"
        }
      ],
      "source": [
        "df[df['alone_and_poor']==1].shape[0]"
      ]
    },
    {
      "cell_type": "markdown",
      "metadata": {
        "id": "3_mIoa_OdKtC"
      },
      "source": [
        "# Визуализация данных"
      ]
    },
    {
      "cell_type": "markdown",
      "metadata": {
        "id": "hktewsS_dKtC"
      },
      "source": [
        "## Задача 13"
      ]
    },
    {
      "cell_type": "markdown",
      "metadata": {
        "id": "QFVHpkbvfJVn"
      },
      "source": [
        "Постройте гистограмму распределения возрастов всех заемщиков. Для этого вам может понадобиться метод `plot.hist()`. Обратите внимание, что у метода `hist()` есть параметр `bins`, который отвечает за мелкость разбиения гистограммы. Постройте два отдельных графика с параметрами `bins=10` и `bins=30`.\n",
        "\n",
        "Подпишите оси, добавьте сетку на графики, дайте графикам название.\n",
        "\n",
        "Также не забывайте, что чтобы картинка отрисовалась корректно, нужно последней строкой кода написать `plt.show()`."
      ]
    },
    {
      "cell_type": "code",
      "execution_count": null,
      "metadata": {
        "id": "gsM3gYpHdKtD"
      },
      "outputs": [],
      "source": [
        "from matplotlib import pyplot as plt"
      ]
    },
    {
      "cell_type": "code",
      "execution_count": null,
      "metadata": {
        "id": "7ymlmUymNz23",
        "outputId": "a54c00c3-ad42-4f54-deb0-ca19e4a6758b"
      },
      "outputs": [
        {
          "data": {
            "image/png": "[encoded data removed]",
            "text/plain": [
              "<Figure size 800x550 with 1 Axes>"
            ]
          },
          "metadata": {},
          "output_type": "display_data"
        }
      ],
      "source": [
        "df['age'].plot.hist(bins=10, color='b')\n",
        "plt.text(\n",
        "    10,\n",
        "    41000,\n",
        "    'Распределение возрастов всех заемщиков, bins=10')\n",
        "plt.grid(linestyle='--', color='pink')\n",
        "plt.xticks(rotation = 360)\n",
        "plt.xlabel(\"Age\")\n",
        "plt.ylabel(\"Amount\")\n",
        "plt.show()\n"
      ]
    },
    {
      "cell_type": "code",
      "execution_count": null,
      "metadata": {
        "id": "hMjJRxEvMyxp",
        "outputId": "86a71eb5-5055-4aaa-e625-d4bf982f25ba"
      },
      "outputs": [
        {
          "data": {
            "image/png": "[encoded data removed]",
            "text/plain": [
              "<Figure size 800x550 with 1 Axes>"
            ]
          },
          "metadata": {},
          "output_type": "display_data"
        }
      ],
      "source": [
        "df['age'].plot.hist(bins=30, color='m')\n",
        "plt.text(\n",
        "    25,\n",
        "    15000,\n",
        "    'Распределение возрастов всех заемщиков, bins=30')\n",
        "plt.grid(linestyle='--', color='pink')\n",
        "plt.xticks(rotation = 360)\n",
        "plt.xlabel(\"Age\")\n",
        "plt.ylabel(\"Amount\")\n",
        "plt.show()"
      ]
    },
    {
      "cell_type": "markdown",
      "metadata": {
        "id": "lFW3P9etdKtE"
      },
      "source": [
        "## Задача 14"
      ]
    },
    {
      "cell_type": "markdown",
      "metadata": {
        "id": "GC3HuIKVfivh"
      },
      "source": [
        "Теперь постройте гистограмму распределения числа открытых кредитных линий (`NumberOfOpenCreditLinesAndLoans`) с помощью функции `distplot()` из модуля `seaborn`.\n",
        "\n",
        "Подпишите оси, добавьте сетку на графики, дайте графику название:"
      ]
    },
    {
      "cell_type": "code",
      "execution_count": null,
      "metadata": {
        "id": "vm36okVzdKtF"
      },
      "outputs": [],
      "source": [
        "import seaborn as sns"
      ]
    },
    {
      "cell_type": "code",
      "execution_count": null,
      "metadata": {
        "id": "17bg1_IoThyp",
        "outputId": "0eb41834-2ebe-4683-9f45-375ab659bbf1"
      },
      "outputs": [
        {
          "name": "stderr",
          "output_type": "stream",
          "text": [
            "C:\\Users\\adamc\\AppData\\Local\\Temp\\ipykernel_13464\\2809586751.py:1: UserWarning: \n",
            "\n",
            "`distplot` is a deprecated function and will be removed in seaborn v0.14.0.\n",
            "\n",
            "Please adapt your code to use either `displot` (a figure-level function with\n",
            "similar flexibility) or `histplot` (an axes-level function for histograms).\n",
            "\n",
            "For a guide to updating your code to use the new functions, please see\n",
            "https://gist.github.com/mwaskom/de44147ed2974457ad6372750bbe5751\n",
            "\n",
            "  sns.distplot(df['NumberOfOpenCreditLinesAndLoans'])\n"
          ]
        },
        {
          "data": {
            "image/png": "[encoded data removed]",
            "text/plain": [
              "<Figure size 800x550 with 1 Axes>"
            ]
          },
          "metadata": {},
          "output_type": "display_data"
        }
      ],
      "source": [
        "sns.distplot(df['NumberOfOpenCreditLinesAndLoans'])\n",
        "plt.grid(linestyle='--', color='grey')\n",
        "plt.xlabel(\"NumberOfOpenCreditLinesAndLoans\")\n",
        "plt.ylabel(\"Frequency\")\n",
        "plt.text(\n",
        "    15,\n",
        "    0.16,\n",
        "    'Распределение числа открытых кредитных линий')\n",
        "plt.show()"
      ]
    },
    {
      "cell_type": "markdown",
      "metadata": {
        "id": "CzQrvJ68dKtF"
      },
      "source": [
        "## Задача 15"
      ]
    },
    {
      "cell_type": "markdown",
      "metadata": {
        "id": "qnue6fFJfpSK"
      },
      "source": [
        "Постройте гистограмму распределения признака `NumberOfDependents` для заемщиков, которые успешно вернули кредит (`defaulted = 0`).\n",
        "\n",
        "Подпишите оси, добавьте сетку на графики, дайте графику название:"
      ]
    },
    {
      "cell_type": "code",
      "execution_count": null,
      "metadata": {
        "id": "081qlJDbdKtF",
        "outputId": "a61fa776-5493-4b05-b74f-dc2990c3b025"
      },
      "outputs": [
        {
          "data": {
            "image/png": "[encoded data removed]",
            "text/plain": [
              "<Figure size 1400x1000 with 1 Axes>"
            ]
          },
          "metadata": {},
          "output_type": "display_data"
        }
      ],
      "source": [
        "a = df[df['defaulted'] ==0]\n",
        "a['NumberOfDependents'].plot.hist(bins =20,color='black',figsize=(14, 10))\n",
        "plt.xlabel(\"Число зависимых членов семьи\")\n",
        "plt.text(\n",
        "    2.5,\n",
        "    90000,\n",
        "    'Распределение признака NumberOfDependents для заемщиков, которые успешно вернули кредит (defaulted = 0)')\n",
        "plt.show()"
      ]
    },
    {
      "cell_type": "markdown",
      "metadata": {
        "id": "nDEgPKhPdKtF"
      },
      "source": [
        "## Задача 16"
      ]
    },
    {
      "cell_type": "markdown",
      "metadata": {
        "id": "4C48yggdftxb"
      },
      "source": [
        "Вычислите среднее значение признака `NumberOfDependents` для каждого возраста\n",
        "\n",
        "---\n",
        "\n",
        "(`groupby` по возрасту и `mean` от столбца `NumberOfDependents`) и постройте гистограмму распределения полученных значений (`plot.bar()`).\n",
        "\n",
        "Сделайте график покрупнее, например 14 на 10 дюймов с помощью параметра `figsize`.\n",
        "\n",
        "Подпишите оси, добавьте сетку на графики, дайте графику название."
      ]
    },
    {
      "cell_type": "code",
      "execution_count": null,
      "metadata": {
        "id": "A0QhpgqadKtG",
        "outputId": "0c4936f1-b63d-48d1-ebe9-1f9c0f1e60b5"
      },
      "outputs": [
        {
          "data": {
            "image/png": "[encoded data removed]",
            "text/plain": [
              "<Figure size 1400x1000 with 1 Axes>"
            ]
          },
          "metadata": {},
          "output_type": "display_data"
        }
      ],
      "source": [
        "df.groupby('age')['NumberOfDependents'].mean().plot.bar(figsize=(14, 10),color='r')\n",
        "plt.xlabel(\"Возраст\")\n",
        "plt.ylabel(\"Число  членов семьи, которых содержат\")\n",
        "plt.text(\n",
        "    20,\n",
        "    2.15,\n",
        "    'Среднее значение признака NumberOfDependents для каждого возраста')\n",
        "plt.show()"
      ]
    },
    {
      "cell_type": "markdown",
      "metadata": {
        "id": "EuUZjHsDdKtG"
      },
      "source": [
        "## Задача 17"
      ]
    },
    {
      "cell_type": "markdown",
      "metadata": {
        "id": "vvpx4bOzf3e8"
      },
      "source": [
        "Видите ли вы теперь какие-то аномалии в данных? Определите, что это за аномалии, и очистите данные от этих аномалий. Затем снова постройте такой же график, как в предыдущем задании, только уже на датафрейме с очищенными выбросами:"
      ]
    },
    {
      "cell_type": "code",
      "execution_count": null,
      "metadata": {
        "id": "nWCx_9NEdKtG",
        "outputId": "395cc3ab-cdad-4c93-b38f-895047356632"
      },
      "outputs": [
        {
          "data": {
            "text/html": [
              "<div>\n",
              "<style scoped>\n",
              "    .dataframe tbody tr th:only-of-type {\n",
              "        vertical-align: middle;\n",
              "    }\n",
              "\n",
              "    .dataframe tbody tr th {\n",
              "        vertical-align: top;\n",
              "    }\n",
              "\n",
              "    .dataframe thead th {\n",
              "        text-align: right;\n",
              "    }\n",
              "</style>\n",
              "<table border=\"1\" class=\"dataframe\">\n",
              "  <thead>\n",
              "    <tr style=\"text-align: right;\">\n",
              "      <th></th>\n",
              "      <th>defaulted</th>\n",
              "      <th>age</th>\n",
              "      <th>DebtRatio</th>\n",
              "      <th>MonthlyIncome</th>\n",
              "      <th>NumberOfOpenCreditLinesAndLoans</th>\n",
              "      <th>NumberRealEstateLoansOrLines</th>\n",
              "      <th>NumberOfDependents</th>\n",
              "      <th>age_group</th>\n",
              "    </tr>\n",
              "  </thead>\n",
              "  <tbody>\n",
              "    <tr>\n",
              "      <th>25561</th>\n",
              "      <td>0</td>\n",
              "      <td>102</td>\n",
              "      <td>0.002424</td>\n",
              "      <td>3300.0</td>\n",
              "      <td>3</td>\n",
              "      <td>0</td>\n",
              "      <td>0.0</td>\n",
              "      <td>3</td>\n",
              "    </tr>\n",
              "    <tr>\n",
              "      <th>90937</th>\n",
              "      <td>0</td>\n",
              "      <td>102</td>\n",
              "      <td>0.000000</td>\n",
              "      <td>NaN</td>\n",
              "      <td>12</td>\n",
              "      <td>0</td>\n",
              "      <td>0.0</td>\n",
              "      <td>3</td>\n",
              "    </tr>\n",
              "    <tr>\n",
              "      <th>96450</th>\n",
              "      <td>0</td>\n",
              "      <td>102</td>\n",
              "      <td>0.273844</td>\n",
              "      <td>3417.0</td>\n",
              "      <td>7</td>\n",
              "      <td>0</td>\n",
              "      <td>1.0</td>\n",
              "      <td>3</td>\n",
              "    </tr>\n",
              "  </tbody>\n",
              "</table>\n",
              "</div>"
            ],
            "text/plain": [
              "       defaulted  age  DebtRatio  MonthlyIncome  \\\n",
              "25561          0  102   0.002424         3300.0   \n",
              "90937          0  102   0.000000            NaN   \n",
              "96450          0  102   0.273844         3417.0   \n",
              "\n",
              "       NumberOfOpenCreditLinesAndLoans  NumberRealEstateLoansOrLines  \\\n",
              "25561                                3                             0   \n",
              "90937                               12                             0   \n",
              "96450                                7                             0   \n",
              "\n",
              "       NumberOfDependents  age_group  \n",
              "25561                 0.0          3  \n",
              "90937                 0.0          3  \n",
              "96450                 1.0          3  "
            ]
          },
          "execution_count": 458,
          "metadata": {},
          "output_type": "execute_result"
        }
      ],
      "source": [
        "#df[df['age']==0]\n",
        "#df[df['age']==102]"
      ]
    },
    {
      "cell_type": "code",
      "execution_count": null,
      "metadata": {
        "id": "bRWyogsiHAIA",
        "outputId": "1e76d4be-17a9-4f7e-c073-ec176404c6ab"
      },
      "outputs": [
        {
          "data": {
            "text/html": [
              "<div>\n",
              "<style scoped>\n",
              "    .dataframe tbody tr th:only-of-type {\n",
              "        vertical-align: middle;\n",
              "    }\n",
              "\n",
              "    .dataframe tbody tr th {\n",
              "        vertical-align: top;\n",
              "    }\n",
              "\n",
              "    .dataframe thead th {\n",
              "        text-align: right;\n",
              "    }\n",
              "</style>\n",
              "<table border=\"1\" class=\"dataframe\">\n",
              "  <thead>\n",
              "    <tr style=\"text-align: right;\">\n",
              "      <th></th>\n",
              "      <th>defaulted</th>\n",
              "      <th>age</th>\n",
              "      <th>DebtRatio</th>\n",
              "      <th>MonthlyIncome</th>\n",
              "      <th>NumberOfOpenCreditLinesAndLoans</th>\n",
              "      <th>NumberRealEstateLoansOrLines</th>\n",
              "      <th>NumberOfDependents</th>\n",
              "      <th>age_group</th>\n",
              "    </tr>\n",
              "  </thead>\n",
              "  <tbody>\n",
              "    <tr>\n",
              "      <th>0</th>\n",
              "      <td>1</td>\n",
              "      <td>45</td>\n",
              "      <td>0.802982</td>\n",
              "      <td>9120.0</td>\n",
              "      <td>13</td>\n",
              "      <td>6</td>\n",
              "      <td>2.0</td>\n",
              "      <td>2</td>\n",
              "    </tr>\n",
              "    <tr>\n",
              "      <th>1</th>\n",
              "      <td>0</td>\n",
              "      <td>40</td>\n",
              "      <td>0.121876</td>\n",
              "      <td>2600.0</td>\n",
              "      <td>4</td>\n",
              "      <td>0</td>\n",
              "      <td>1.0</td>\n",
              "      <td>2</td>\n",
              "    </tr>\n",
              "    <tr>\n",
              "      <th>2</th>\n",
              "      <td>0</td>\n",
              "      <td>38</td>\n",
              "      <td>0.085113</td>\n",
              "      <td>3042.0</td>\n",
              "      <td>2</td>\n",
              "      <td>0</td>\n",
              "      <td>0.0</td>\n",
              "      <td>2</td>\n",
              "    </tr>\n",
              "    <tr>\n",
              "      <th>3</th>\n",
              "      <td>0</td>\n",
              "      <td>30</td>\n",
              "      <td>0.036050</td>\n",
              "      <td>3300.0</td>\n",
              "      <td>5</td>\n",
              "      <td>0</td>\n",
              "      <td>0.0</td>\n",
              "      <td>1</td>\n",
              "    </tr>\n",
              "    <tr>\n",
              "      <th>4</th>\n",
              "      <td>0</td>\n",
              "      <td>49</td>\n",
              "      <td>0.024926</td>\n",
              "      <td>63588.0</td>\n",
              "      <td>7</td>\n",
              "      <td>1</td>\n",
              "      <td>0.0</td>\n",
              "      <td>2</td>\n",
              "    </tr>\n",
              "    <tr>\n",
              "      <th>...</th>\n",
              "      <td>...</td>\n",
              "      <td>...</td>\n",
              "      <td>...</td>\n",
              "      <td>...</td>\n",
              "      <td>...</td>\n",
              "      <td>...</td>\n",
              "      <td>...</td>\n",
              "      <td>...</td>\n",
              "    </tr>\n",
              "    <tr>\n",
              "      <th>149995</th>\n",
              "      <td>0</td>\n",
              "      <td>74</td>\n",
              "      <td>0.225131</td>\n",
              "      <td>2100.0</td>\n",
              "      <td>4</td>\n",
              "      <td>1</td>\n",
              "      <td>0.0</td>\n",
              "      <td>3</td>\n",
              "    </tr>\n",
              "    <tr>\n",
              "      <th>149996</th>\n",
              "      <td>0</td>\n",
              "      <td>44</td>\n",
              "      <td>0.716562</td>\n",
              "      <td>5584.0</td>\n",
              "      <td>4</td>\n",
              "      <td>1</td>\n",
              "      <td>2.0</td>\n",
              "      <td>2</td>\n",
              "    </tr>\n",
              "    <tr>\n",
              "      <th>149997</th>\n",
              "      <td>0</td>\n",
              "      <td>58</td>\n",
              "      <td>3870.000000</td>\n",
              "      <td>NaN</td>\n",
              "      <td>18</td>\n",
              "      <td>1</td>\n",
              "      <td>0.0</td>\n",
              "      <td>3</td>\n",
              "    </tr>\n",
              "    <tr>\n",
              "      <th>149998</th>\n",
              "      <td>0</td>\n",
              "      <td>30</td>\n",
              "      <td>0.000000</td>\n",
              "      <td>5716.0</td>\n",
              "      <td>4</td>\n",
              "      <td>0</td>\n",
              "      <td>0.0</td>\n",
              "      <td>1</td>\n",
              "    </tr>\n",
              "    <tr>\n",
              "      <th>149999</th>\n",
              "      <td>0</td>\n",
              "      <td>64</td>\n",
              "      <td>0.249908</td>\n",
              "      <td>8158.0</td>\n",
              "      <td>8</td>\n",
              "      <td>2</td>\n",
              "      <td>0.0</td>\n",
              "      <td>3</td>\n",
              "    </tr>\n",
              "  </tbody>\n",
              "</table>\n",
              "<p>149996 rows × 8 columns</p>\n",
              "</div>"
            ],
            "text/plain": [
              "        defaulted  age    DebtRatio  MonthlyIncome  \\\n",
              "0               1   45     0.802982         9120.0   \n",
              "1               0   40     0.121876         2600.0   \n",
              "2               0   38     0.085113         3042.0   \n",
              "3               0   30     0.036050         3300.0   \n",
              "4               0   49     0.024926        63588.0   \n",
              "...           ...  ...          ...            ...   \n",
              "149995          0   74     0.225131         2100.0   \n",
              "149996          0   44     0.716562         5584.0   \n",
              "149997          0   58  3870.000000            NaN   \n",
              "149998          0   30     0.000000         5716.0   \n",
              "149999          0   64     0.249908         8158.0   \n",
              "\n",
              "        NumberOfOpenCreditLinesAndLoans  NumberRealEstateLoansOrLines  \\\n",
              "0                                    13                             6   \n",
              "1                                     4                             0   \n",
              "2                                     2                             0   \n",
              "3                                     5                             0   \n",
              "4                                     7                             1   \n",
              "...                                 ...                           ...   \n",
              "149995                                4                             1   \n",
              "149996                                4                             1   \n",
              "149997                               18                             1   \n",
              "149998                                4                             0   \n",
              "149999                                8                             2   \n",
              "\n",
              "        NumberOfDependents  age_group  \n",
              "0                      2.0          2  \n",
              "1                      1.0          2  \n",
              "2                      0.0          2  \n",
              "3                      0.0          1  \n",
              "4                      0.0          2  \n",
              "...                    ...        ...  \n",
              "149995                 0.0          3  \n",
              "149996                 2.0          2  \n",
              "149997                 0.0          3  \n",
              "149998                 0.0          1  \n",
              "149999                 0.0          3  \n",
              "\n",
              "[149996 rows x 8 columns]"
            ]
          },
          "execution_count": 459,
          "metadata": {},
          "output_type": "execute_result"
        }
      ],
      "source": [
        "df = df[(df.age != 0 ) & (df.age != 102 )]\n",
        "df"
      ]
    },
    {
      "cell_type": "code",
      "execution_count": null,
      "metadata": {
        "id": "PKlX9jmELA8S",
        "outputId": "1ab08c5d-37ef-44bb-bee0-61fb0b6b256a"
      },
      "outputs": [
        {
          "data": {
            "image/png": "[encoded data removed]",
            "text/plain": [
              "<Figure size 1400x1000 with 1 Axes>"
            ]
          },
          "metadata": {},
          "output_type": "display_data"
        }
      ],
      "source": [
        "df.groupby('age')['NumberOfDependents'].mean().plot.bar(figsize=(14, 10),color='g')\n",
        "plt.xlabel(\"Возраст\")\n",
        "plt.ylabel(\"Число  членов семьи, которых содержат\")\n",
        "plt.text(\n",
        "    20,\n",
        "    1.4,\n",
        "    'Среднее значение признака NumberOfDependents для каждого возраста')\n",
        "plt.show()"
      ]
    }
  ],
  "metadata": {
    "colab": {
      "provenance": []
    },
    "kernelspec": {
      "display_name": "Python 3 (ipykernel)",
      "language": "python",
      "name": "python3"
    },
    "language_info": {
      "codemirror_mode": {
        "name": "ipython",
        "version": 3
      },
      "file_extension": ".py",
      "mimetype": "text/x-python",
      "name": "python",
      "nbconvert_exporter": "python",
      "pygments_lexer": "ipython3",
      "version": "3.11.4"
    }
  },
  "nbformat": 4,
  "nbformat_minor": 0
}